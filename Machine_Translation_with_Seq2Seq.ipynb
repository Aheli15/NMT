{
  "nbformat": 4,
  "nbformat_minor": 0,
  "metadata": {
    "colab": {
      "name": "Machine Translation with Seq2Seq.ipynb",
      "provenance": [],
      "collapsed_sections": [],
      "machine_shape": "hm",
      "authorship_tag": "ABX9TyM9UtcKL1vb/XQvQ6AE9iDi"
    },
    "kernelspec": {
      "name": "python3",
      "display_name": "Python 3"
    },
    "accelerator": "GPU"
  },
  "cells": [
    {
      "cell_type": "code",
      "metadata": {
        "id": "KqKqP5FmjH47",
        "colab_type": "code",
        "outputId": "d4ae8776-d897-4a68-a56f-d5e517858ce6",
        "colab": {
          "base_uri": "https://localhost:8080/",
          "height": 34
        }
      },
      "source": [
        "!pip install wget"
      ],
      "execution_count": 1,
      "outputs": [
        {
          "output_type": "stream",
          "text": [
            "Requirement already satisfied: wget in /usr/local/lib/python3.6/dist-packages (3.2)\n"
          ],
          "name": "stdout"
        }
      ]
    },
    {
      "cell_type": "code",
      "metadata": {
        "id": "_L9fFWCYfC2W",
        "colab_type": "code",
        "outputId": "913c34eb-6c62-4b8e-fb63-47ad54c2d759",
        "colab": {
          "base_uri": "https://localhost:8080/",
          "height": 34
        }
      },
      "source": [
        "%tensorflow_version 2.x"
      ],
      "execution_count": 2,
      "outputs": [
        {
          "output_type": "stream",
          "text": [
            "TensorFlow 2.x selected.\n"
          ],
          "name": "stdout"
        }
      ]
    },
    {
      "cell_type": "code",
      "metadata": {
        "id": "sodFSZf-HcWU",
        "colab_type": "code",
        "colab": {}
      },
      "source": [
        "import tarfile\n",
        "import wget\n",
        "import os\n",
        "import re\n",
        "import pickle\n",
        "import numpy as np\n",
        "from tqdm import tqdm\n",
        "import tensorflow as tf\n",
        "from sklearn.model_selection import train_test_split"
      ],
      "execution_count": 0,
      "outputs": []
    },
    {
      "cell_type": "markdown",
      "metadata": {
        "id": "AS8E1W3YcgHb",
        "colab_type": "text"
      },
      "source": [
        "# Load Data\n"
      ]
    },
    {
      "cell_type": "code",
      "metadata": {
        "id": "eBCUWur8V-jq",
        "colab_type": "code",
        "outputId": "66b82c9e-9bbc-496d-92e9-f49e32a47550",
        "colab": {
          "base_uri": "https://localhost:8080/",
          "height": 34
        }
      },
      "source": [
        "print('Downloading dataset...')\n",
        "url = 'http://www.statmt.org/europarl/v7/fr-en.tgz'\n",
        "\n",
        "if not os.path.exists('./fr-en.tgz'):\n",
        "    wget.download(url, './fr-en.tgz')\n",
        "\n",
        "if not (os.path.exists('./europarl-v7.fr-en.fr') and os.path.exists('./europarl-v7.fr-en.en')):\n",
        "    taf = tarfile.open(\"./fr-en.tgz\")\n",
        "    taf.extractall()"
      ],
      "execution_count": 4,
      "outputs": [
        {
          "output_type": "stream",
          "text": [
            "Downloading dataset...\n"
          ],
          "name": "stdout"
        }
      ]
    },
    {
      "cell_type": "code",
      "metadata": {
        "id": "KATAbhH-WTM0",
        "colab_type": "code",
        "outputId": "8e6eaf4a-64d2-42b4-838f-766f445e177e",
        "colab": {
          "base_uri": "https://localhost:8080/",
          "height": 136
        }
      },
      "source": [
        "os.listdir()"
      ],
      "execution_count": 5,
      "outputs": [
        {
          "output_type": "execute_result",
          "data": {
            "text/plain": [
              "['.config',\n",
              " 'europarl-v7.fr-en.fr',\n",
              " 'encoder_plot.png',\n",
              " 'decoder_plot.png',\n",
              " 'fr-en.tgz',\n",
              " 'europarl-v7.fr-en.en',\n",
              " 'sample_data']"
            ]
          },
          "metadata": {
            "tags": []
          },
          "execution_count": 5
        }
      ]
    },
    {
      "cell_type": "markdown",
      "metadata": {
        "id": "-s0Ct5uhcjpt",
        "colab_type": "text"
      },
      "source": [
        "# Prepare Data"
      ]
    },
    {
      "cell_type": "code",
      "metadata": {
        "id": "tH5WNvK9j84Z",
        "colab_type": "code",
        "colab": {}
      },
      "source": [
        "def load_doc(filename):\n",
        "\tfile = open(filename, mode='rt', encoding='utf-8')\n",
        "\ttext = file.read()\n",
        "\tfile.close()\n",
        "\treturn text"
      ],
      "execution_count": 0,
      "outputs": []
    },
    {
      "cell_type": "code",
      "metadata": {
        "id": "rlBG2NfC7ijG",
        "colab_type": "code",
        "colab": {}
      },
      "source": [
        "def to_sentences(doc):\n",
        "    return doc.strip().lower().split('\\n')"
      ],
      "execution_count": 0,
      "outputs": []
    },
    {
      "cell_type": "code",
      "metadata": {
        "id": "jmQq_p_373jc",
        "colab_type": "code",
        "colab": {}
      },
      "source": [
        "def preprocess_sentence(w):\n",
        "    w = re.sub(r\"([?.!,¿])\", r\" \\1 \", w)    # pad punctuations with space on both sides \n",
        "    w = re.sub(r'[\" \"]+', \" \", w)       # replace multiple spaces with a single space\n",
        "    w = re.sub(r\"[^a-zA-Z?.!,¿]+\", \" \", w)      # replace everything with space except (a-z, A-Z, \".\", \"?\", \"!\", \",\")\n",
        "    w = w.strip()\n",
        "    w = '<start> ' + w + ' <end>'\n",
        "    return w"
      ],
      "execution_count": 0,
      "outputs": []
    },
    {
      "cell_type": "code",
      "metadata": {
        "id": "0tmJESseA1kA",
        "colab_type": "code",
        "colab": {}
      },
      "source": [
        "def create_dataset(num_samples):\n",
        "    en = to_sentences(load_doc('./europarl-v7.fr-en.en'))\n",
        "    fr = to_sentences(load_doc('./europarl-v7.fr-en.fr'))\n",
        "\n",
        "    e_sents = [preprocess_sentence(w) for w in en]\n",
        "    f_sents = [preprocess_sentence(w) for w in fr]\n",
        "\n",
        "\n",
        "    return e_sents[:num_samples], f_sents[:num_samples]"
      ],
      "execution_count": 0,
      "outputs": []
    },
    {
      "cell_type": "code",
      "metadata": {
        "id": "eyQuW0vOD9VN",
        "colab_type": "code",
        "colab": {}
      },
      "source": [
        "def tokenize(lang):\n",
        "    lang_tokenizer = tf.keras.preprocessing.text.Tokenizer(filters='', oov_token=\"<unk>\")\n",
        "    lang_tokenizer.fit_on_texts(lang)\n",
        "    tensor = lang_tokenizer.texts_to_sequences(lang)\n",
        "    tensor = tf.keras.preprocessing.sequence.pad_sequences(tensor, padding='post')\n",
        "    return tensor, lang_tokenizer"
      ],
      "execution_count": 0,
      "outputs": []
    },
    {
      "cell_type": "code",
      "metadata": {
        "id": "8oWBvNfVOt9a",
        "colab_type": "code",
        "colab": {}
      },
      "source": [
        "def max_length(tensor):\n",
        "  return max(len(t) for t in tensor)"
      ],
      "execution_count": 0,
      "outputs": []
    },
    {
      "cell_type": "code",
      "metadata": {
        "id": "tPoRlDJcHIAo",
        "colab_type": "code",
        "colab": {}
      },
      "source": [
        "def load_dataset(num_samples):\n",
        "    en, fr = create_dataset(num_samples)\n",
        "    en_tensor, en_tokenizer = tokenize(en)    \n",
        "    fr_tensor, fr_tokenizer = tokenize(fr)\n",
        "\n",
        "    return fr_tensor, en_tensor, fr_tokenizer, en_tokenizer"
      ],
      "execution_count": 0,
      "outputs": []
    },
    {
      "cell_type": "code",
      "metadata": {
        "id": "zwtfzlodH2Op",
        "colab_type": "code",
        "colab": {}
      },
      "source": [
        "input_tensor, target_tensor, inp_lang, targ_lang = load_dataset(5000)"
      ],
      "execution_count": 0,
      "outputs": []
    },
    {
      "cell_type": "code",
      "metadata": {
        "id": "TjDha5e5Mali",
        "colab_type": "code",
        "outputId": "1c8a721b-0384-4cc5-d538-2b387e8ac3b7",
        "colab": {
          "base_uri": "https://localhost:8080/",
          "height": 34
        }
      },
      "source": [
        "input_train, input_test, target_train, target_test = train_test_split(input_tensor, target_tensor, test_size=0.2)\n",
        "print(len(input_train), len(input_test), len(target_train), len(target_test))"
      ],
      "execution_count": 14,
      "outputs": [
        {
          "output_type": "stream",
          "text": [
            "4000 1000 4000 1000\n"
          ],
          "name": "stdout"
        }
      ]
    },
    {
      "cell_type": "code",
      "metadata": {
        "id": "gfBUWZxbOvGR",
        "colab_type": "code",
        "outputId": "19f1f7f1-ada7-48cd-eaa2-27e42e0af44a",
        "colab": {
          "base_uri": "https://localhost:8080/",
          "height": 34
        }
      },
      "source": [
        "inp_max_len, tar_max_len = max_length(input_train), max_length(target_train)\n",
        "print(inp_max_len, tar_max_len)"
      ],
      "execution_count": 15,
      "outputs": [
        {
          "output_type": "stream",
          "text": [
            "168 143\n"
          ],
          "name": "stdout"
        }
      ]
    },
    {
      "cell_type": "code",
      "metadata": {
        "id": "zrGmrwUGUMGP",
        "colab_type": "code",
        "colab": {}
      },
      "source": [
        "BUFFER_SIZE = len(input_train)\n",
        "BATCH_SIZE = 16\n",
        "steps_per_epoch = len(input_train)//BATCH_SIZE\n",
        "embedding_dim = 1000\n",
        "units = 1000\n",
        "vocab_inp_size = len(inp_lang.word_index)+1\n",
        "vocab_tar_size = len(targ_lang.word_index)+1\n",
        "\n",
        "dataset = tf.data.Dataset.from_tensor_slices((input_train, target_train)).shuffle(BUFFER_SIZE)\n",
        "dataset = dataset.batch(BATCH_SIZE, drop_remainder=True)"
      ],
      "execution_count": 0,
      "outputs": []
    },
    {
      "cell_type": "code",
      "metadata": {
        "id": "u3AAYeICZ8k3",
        "colab_type": "code",
        "colab": {
          "base_uri": "https://localhost:8080/",
          "height": 34
        },
        "outputId": "78513026-d0ce-4073-81ac-0c3972c43110"
      },
      "source": [
        "example_input, example_target = next(iter(dataset))\n",
        "example_input.shape, example_target.shape"
      ],
      "execution_count": 17,
      "outputs": [
        {
          "output_type": "execute_result",
          "data": {
            "text/plain": [
              "(TensorShape([16, 168]), TensorShape([16, 143]))"
            ]
          },
          "metadata": {
            "tags": []
          },
          "execution_count": 17
        }
      ]
    },
    {
      "cell_type": "markdown",
      "metadata": {
        "id": "A-S0nVxEcnNS",
        "colab_type": "text"
      },
      "source": [
        "# Model"
      ]
    },
    {
      "cell_type": "code",
      "metadata": {
        "id": "m_qJuVEcU67K",
        "colab_type": "code",
        "colab": {}
      },
      "source": [
        "# encoder\n",
        "def define_encoder(max_len, vocab_size, embedding_dim, units):\n",
        "    inp = tf.keras.Input((max_len))\n",
        "    embedding = tf.keras.layers.Embedding(vocab_size, embedding_dim)(inp)\n",
        "    output, state_h, state_c = tf.keras.layers.LSTM(units, return_state=True)(embedding)\n",
        "    states = [state_h, state_c]\n",
        "    model = tf.keras.Model(inp, [output,state_h, state_c])\n",
        "    return model"
      ],
      "execution_count": 0,
      "outputs": []
    },
    {
      "cell_type": "code",
      "metadata": {
        "id": "Wi-WK_86injq",
        "colab_type": "code",
        "outputId": "9d312dd8-089b-41c9-ff24-347e897c2842",
        "colab": {
          "base_uri": "https://localhost:8080/",
          "height": 550
        }
      },
      "source": [
        "encoder = define_encoder(inp_max_len, vocab_inp_size, embedding_dim, units)\n",
        "encoder.summary()\n",
        "tf.keras.utils.plot_model(encoder, to_file='encoder_plot.png', show_shapes=True, show_layer_names=True)"
      ],
      "execution_count": 19,
      "outputs": [
        {
          "output_type": "stream",
          "text": [
            "Model: \"model\"\n",
            "_________________________________________________________________\n",
            "Layer (type)                 Output Shape              Param #   \n",
            "=================================================================\n",
            "input_1 (InputLayer)         [(None, 168)]             0         \n",
            "_________________________________________________________________\n",
            "embedding (Embedding)        (None, 168, 1000)         8702000   \n",
            "_________________________________________________________________\n",
            "lstm (LSTM)                  [(None, 1000), (None, 100 8004000   \n",
            "=================================================================\n",
            "Total params: 16,706,000\n",
            "Trainable params: 16,706,000\n",
            "Non-trainable params: 0\n",
            "_________________________________________________________________\n"
          ],
          "name": "stdout"
        },
        {
          "output_type": "execute_result",
          "data": {
            "image/png": "[encoded data removed]",
            "text/plain": [
              "<IPython.core.display.Image object>"
            ]
          },
          "metadata": {
            "tags": []
          },
          "execution_count": 19
        }
      ]
    },
    {
      "cell_type": "code",
      "metadata": {
        "id": "JO2UmwwQuwKv",
        "colab_type": "code",
        "colab": {
          "base_uri": "https://localhost:8080/",
          "height": 34
        },
        "outputId": "20c9442e-089e-4299-f2e4-78fc459a85e1"
      },
      "source": [
        "a, b, c = encoder(example_input)\n",
        "a.shape, b.shape, c.shape"
      ],
      "execution_count": 20,
      "outputs": [
        {
          "output_type": "execute_result",
          "data": {
            "text/plain": [
              "(TensorShape([16, 1000]), TensorShape([16, 1000]), TensorShape([16, 1000]))"
            ]
          },
          "metadata": {
            "tags": []
          },
          "execution_count": 20
        }
      ]
    },
    {
      "cell_type": "code",
      "metadata": {
        "id": "lLdS0dUcR62Y",
        "colab_type": "code",
        "colab": {}
      },
      "source": [
        "# decoder\n",
        "def define_decoder(max_len, vocab_size, embedding_dim, units):\n",
        "    inp = tf.keras.Input((1))\n",
        "    state_h = tf.keras.Input(shape=(units,))\n",
        "    state_c = tf.keras.Input(shape=(units,))\n",
        "    embedding = tf.keras.layers.Embedding(vocab_size, embedding_dim)(inp)\n",
        "    output, state_2h, state_2c = tf.keras.layers.LSTM(units, activation='softmax', return_sequences=True, return_state=True)(embedding, initial_state=[state_h, state_c])\n",
        "    output = tf.reshape(output, (-1, output.shape[2]))\n",
        "    output = tf.keras.layers.Dense(vocab_size, activation='softmax')(output)\n",
        "    model = tf.keras.Model([inp, state_h, state_c], [output, state_2h, state_2c])\n",
        "    return model"
      ],
      "execution_count": 0,
      "outputs": []
    },
    {
      "cell_type": "code",
      "metadata": {
        "id": "71Dc92QSvmb2",
        "colab_type": "code",
        "colab": {
          "base_uri": "https://localhost:8080/",
          "height": 960
        },
        "outputId": "441deba4-e720-4b47-d888-e28ca590a0e6"
      },
      "source": [
        "decoder = define_decoder(tar_max_len, vocab_tar_size, embedding_dim, units)\n",
        "decoder.summary()\n",
        "tf.keras.utils.plot_model(decoder, to_file='decoder_plot.png', show_shapes=True, show_layer_names=True)"
      ],
      "execution_count": 22,
      "outputs": [
        {
          "output_type": "stream",
          "text": [
            "Model: \"model_1\"\n",
            "__________________________________________________________________________________________________\n",
            "Layer (type)                    Output Shape         Param #     Connected to                     \n",
            "==================================================================================================\n",
            "input_2 (InputLayer)            [(None, 1)]          0                                            \n",
            "__________________________________________________________________________________________________\n",
            "embedding_1 (Embedding)         (None, 1, 1000)      7544000     input_2[0][0]                    \n",
            "__________________________________________________________________________________________________\n",
            "input_3 (InputLayer)            [(None, 1000)]       0                                            \n",
            "__________________________________________________________________________________________________\n",
            "input_4 (InputLayer)            [(None, 1000)]       0                                            \n",
            "__________________________________________________________________________________________________\n",
            "lstm_1 (LSTM)                   [(None, 1, 1000), (N 8004000     embedding_1[0][0]                \n",
            "                                                                 input_3[0][0]                    \n",
            "                                                                 input_4[0][0]                    \n",
            "__________________________________________________________________________________________________\n",
            "tf_op_layer_Reshape (TensorFlow [(None, 1000)]       0           lstm_1[0][0]                     \n",
            "__________________________________________________________________________________________________\n",
            "dense (Dense)                   (None, 7544)         7551544     tf_op_layer_Reshape[0][0]        \n",
            "==================================================================================================\n",
            "Total params: 23,099,544\n",
            "Trainable params: 23,099,544\n",
            "Non-trainable params: 0\n",
            "__________________________________________________________________________________________________\n"
          ],
          "name": "stdout"
        },
        {
          "output_type": "execute_result",
          "data": {
            "image/png": "[encoded data removed]",
            "text/plain": [
              "<IPython.core.display.Image object>"
            ]
          },
          "metadata": {
            "tags": []
          },
          "execution_count": 22
        }
      ]
    },
    {
      "cell_type": "code",
      "metadata": {
        "id": "dlSir01YwD2o",
        "colab_type": "code",
        "colab": {
          "base_uri": "https://localhost:8080/",
          "height": 34
        },
        "outputId": "a06fe411-a893-4fbb-9fc7-ae7c24f2ef1d"
      },
      "source": [
        "a2, b2, c2 = decoder([tf.random.uniform((BATCH_SIZE, 1)), b, c])\n",
        "a2.shape, b2.shape, c2.shape"
      ],
      "execution_count": 23,
      "outputs": [
        {
          "output_type": "execute_result",
          "data": {
            "text/plain": [
              "(TensorShape([16, 7544]), TensorShape([16, 1000]), TensorShape([16, 1000]))"
            ]
          },
          "metadata": {
            "tags": []
          },
          "execution_count": 23
        }
      ]
    },
    {
      "cell_type": "markdown",
      "metadata": {
        "id": "HefUMf4qk_ko",
        "colab_type": "text"
      },
      "source": [
        "# Train"
      ]
    },
    {
      "cell_type": "code",
      "metadata": {
        "id": "2Pt-7XKCi77Q",
        "colab_type": "code",
        "colab": {}
      },
      "source": [
        "opt = tf.keras.optimizers.Adam()\n",
        "loss_obj = tf.keras.losses.SparseCategoricalCrossentropy(from_logits=True, reduction='none')"
      ],
      "execution_count": 0,
      "outputs": []
    },
    {
      "cell_type": "code",
      "metadata": {
        "id": "UTB1au9NyiyD",
        "colab_type": "code",
        "colab": {}
      },
      "source": [
        "def loss_function(real, pred):\n",
        "    mask = tf.math.logical_not(tf.math.equal(real, 0))\n",
        "    loss_ = loss_obj(real, pred)\n",
        "    mask = tf.cast(mask, dtype=loss_.dtype)\n",
        "    loss_ *= mask\n",
        "    return tf.reduce_mean(loss_)"
      ],
      "execution_count": 0,
      "outputs": []
    },
    {
      "cell_type": "code",
      "metadata": {
        "id": "V3fEykz1qdei",
        "colab_type": "code",
        "colab": {}
      },
      "source": [
        "EPOCHS = 8"
      ],
      "execution_count": 0,
      "outputs": []
    },
    {
      "cell_type": "code",
      "metadata": {
        "id": "eh3jdld8zDyS",
        "colab_type": "code",
        "colab": {}
      },
      "source": [
        "@tf.function\n",
        "def train_step(inp, targ):\n",
        "    loss = 0\n",
        "\n",
        "    with tf.GradientTape() as tape:\n",
        "        enc_output, enc_hidden_h, enc_hidden_c = encoder(inp)\n",
        "        dec_hidden_h = enc_hidden_h\n",
        "        dec_hidden_c  = enc_hidden_c\n",
        "        dec_input = tf.expand_dims([targ_lang.word_index['<start>']] * BATCH_SIZE, 1)\n",
        "        \n",
        "        for t in range(1, targ.shape[1]):\n",
        "            predictions, dec_hidden_h, dec_hidden_c = decoder([dec_input, dec_hidden_h, dec_hidden_c])\n",
        "            loss += loss_function(targ[:, t], predictions)\n",
        "            dec_input = tf.expand_dims(targ[:, t], 1)\n",
        "\n",
        "    batch_loss = (loss / int(targ.shape[1]))\n",
        "    variables = encoder.trainable_variables + decoder.trainable_variables\n",
        "    gradients = tape.gradient(loss, variables)\n",
        "    opt.apply_gradients(zip(gradients, variables))\n",
        "    return batch_loss"
      ],
      "execution_count": 0,
      "outputs": []
    },
    {
      "cell_type": "code",
      "metadata": {
        "id": "R-hIpP34zDnm",
        "colab_type": "code",
        "colab": {
          "base_uri": "https://localhost:8080/",
          "height": 831
        },
        "outputId": "93e6c241-3d7d-4a72-c919-7bc292117263"
      },
      "source": [
        "import time\n",
        "\n",
        "for epoch in range(EPOCHS):\n",
        "    start = time.time()\n",
        "    total_loss = 0\n",
        "    for (batch, (inp, targ)) in enumerate(dataset.take(steps_per_epoch)):\n",
        "        batch_loss = train_step(inp, targ)\n",
        "        total_loss += batch_loss\n",
        "\n",
        "        if batch % 100 == 0:\n",
        "            print('Epoch {} Batch {} Loss {:.4f}'.format(epoch + 1, batch, batch_loss.numpy()))\n",
        "    print('Epoch {} Loss {:.4f}'.format(epoch + 1, total_loss / steps_per_epoch))\n",
        "    print('Time taken for 1 epoch {} sec\\n'.format(time.time() - start))"
      ],
      "execution_count": 28,
      "outputs": [
        {
          "output_type": "stream",
          "text": [
            "Epoch 1 Batch 0 Loss 1.8380\n",
            "Epoch 1 Batch 100 Loss 1.9199\n",
            "Epoch 1 Batch 200 Loss 2.2594\n",
            "Epoch 1 Loss 1.8177\n",
            "Time taken for 1 epoch 182.0148618221283 sec\n",
            "\n",
            "Epoch 2 Batch 0 Loss 1.9551\n",
            "Epoch 2 Batch 100 Loss 1.9277\n",
            "Epoch 2 Batch 200 Loss 1.7131\n",
            "Epoch 2 Loss 1.8176\n",
            "Time taken for 1 epoch 91.29006886482239 sec\n",
            "\n",
            "Epoch 3 Batch 0 Loss 1.9121\n",
            "Epoch 3 Batch 100 Loss 1.9199\n",
            "Epoch 3 Batch 200 Loss 1.9628\n",
            "Epoch 3 Loss 1.8176\n",
            "Time taken for 1 epoch 91.79377818107605 sec\n",
            "\n",
            "Epoch 4 Batch 0 Loss 1.6857\n",
            "Epoch 4 Batch 100 Loss 1.8534\n",
            "Epoch 4 Batch 200 Loss 1.4786\n",
            "Epoch 4 Loss 1.8173\n",
            "Time taken for 1 epoch 92.32080125808716 sec\n",
            "\n",
            "Epoch 5 Batch 0 Loss 1.5835\n",
            "Epoch 5 Batch 100 Loss 1.9765\n",
            "Epoch 5 Batch 200 Loss 2.1150\n",
            "Epoch 5 Loss 1.8152\n",
            "Time taken for 1 epoch 91.9244179725647 sec\n",
            "\n",
            "Epoch 6 Batch 0 Loss 1.9466\n",
            "Epoch 6 Batch 100 Loss 1.4225\n",
            "Epoch 6 Batch 200 Loss 1.5858\n",
            "Epoch 6 Loss 1.8115\n",
            "Time taken for 1 epoch 91.71962571144104 sec\n",
            "\n",
            "Epoch 7 Batch 0 Loss 1.6786\n",
            "Epoch 7 Batch 100 Loss 1.5783\n",
            "Epoch 7 Batch 200 Loss 1.3829\n",
            "Epoch 7 Loss 1.8084\n",
            "Time taken for 1 epoch 91.75277471542358 sec\n",
            "\n",
            "Epoch 8 Batch 0 Loss 1.9212\n",
            "Epoch 8 Batch 100 Loss 2.0161\n",
            "Epoch 8 Batch 200 Loss 2.2360\n",
            "Epoch 8 Loss 1.8063\n",
            "Time taken for 1 epoch 92.32095384597778 sec\n",
            "\n"
          ],
          "name": "stdout"
        }
      ]
    },
    {
      "cell_type": "markdown",
      "metadata": {
        "id": "S-TfWuYM5sJy",
        "colab_type": "text"
      },
      "source": [
        "# Translate"
      ]
    },
    {
      "cell_type": "code",
      "metadata": {
        "id": "SlfDuY8lzDbQ",
        "colab_type": "code",
        "colab": {}
      },
      "source": [
        "def evaluate(sentence):\n",
        "    \n",
        "    sentence = preprocess_sentence(sentence)\n",
        "    inputs = [inp_lang.word_index[i] for i in sentence.split(' ')]\n",
        "    inputs = tf.keras.preprocessing.sequence.pad_sequences([inputs], maxlen=inp_max_len, padding='post')\n",
        "    inputs = tf.convert_to_tensor(inputs)\n",
        "    result = ''\n",
        "\n",
        "    enc_out, enc_hidden_h, enc_hidden_c = encoder(inputs)\n",
        "\n",
        "    dec_hidden_h = enc_hidden_h\n",
        "    dec_hidden_c  = enc_hidden_c\n",
        "    dec_input = tf.expand_dims([targ_lang.word_index['<start>']], 0)\n",
        "\n",
        "    for t in range(tar_max_len):\n",
        "        predictions, dec_hidden, attention_weights = decoder([dec_input, dec_hidden_h, dec_hidden_c])\n",
        "        predicted_id = tf.argmax(predictions[0]).numpy()\n",
        "        result += targ_lang.index_word[predicted_id] + ' '\n",
        "        if targ_lang.index_word[predicted_id] == '<end>':\n",
        "            return result, sentence\n",
        "        dec_input = tf.expand_dims([predicted_id], 0)\n",
        "    return result, sentence"
      ],
      "execution_count": 0,
      "outputs": []
    },
    {
      "cell_type": "code",
      "metadata": {
        "id": "3R1GmJFDEuMN",
        "colab_type": "code",
        "colab": {}
      },
      "source": [
        "def translate(sentence):\n",
        "    result, sentence = evaluate(sentence)\n",
        "    print('Input: %s' % (sentence))\n",
        "    print('Predicted translation: {}'.format(result))"
      ],
      "execution_count": 0,
      "outputs": []
    },
    {
      "cell_type": "code",
      "metadata": {
        "id": "p6kklXMe9W6J",
        "colab_type": "code",
        "colab": {}
      },
      "source": [
        ""
      ],
      "execution_count": 0,
      "outputs": []
    }
  ]
}