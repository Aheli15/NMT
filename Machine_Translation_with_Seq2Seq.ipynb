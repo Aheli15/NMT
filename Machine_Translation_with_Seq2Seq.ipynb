{
  "nbformat": 4,
  "nbformat_minor": 0,
  "metadata": {
    "colab": {
      "name": "Machine Translation with Seq2Seq.ipynb",
      "provenance": [],
      "collapsed_sections": [],
      "machine_shape": "hm",
      "authorship_tag": "ABX9TyN3HRBOLOI72sR0/XO1z1cL"
    },
    "kernelspec": {
      "name": "python3",
      "display_name": "Python 3"
    },
    "accelerator": "GPU"
  },
  "cells": [
    {
      "cell_type": "code",
      "metadata": {
        "id": "KqKqP5FmjH47",
        "colab_type": "code",
        "colab": {
          "base_uri": "https://localhost:8080/",
          "height": 190
        },
        "outputId": "4e48b28f-14ca-4201-f29c-70d0b9d71f6e"
      },
      "source": [
        "!pip install wget"
      ],
      "execution_count": 3,
      "outputs": [
        {
          "output_type": "stream",
          "text": [
            "Collecting wget\n",
            "  Downloading https://files.pythonhosted.org/packages/47/6a/62e288da7bcda82b935ff0c6cfe542970f04e29c756b0e147251b2fb251f/wget-3.2.zip\n",
            "Building wheels for collected packages: wget\n",
            "  Building wheel for wget (setup.py) ... \u001b[?25l\u001b[?25hdone\n",
            "  Created wheel for wget: filename=wget-3.2-cp36-none-any.whl size=9682 sha256=610c53df102540c3927dfeaa773573e3c7698d54affc481b4edc97257798c981\n",
            "  Stored in directory: /root/.cache/pip/wheels/40/15/30/7d8f7cea2902b4db79e3fea550d7d7b85ecb27ef992b618f3f\n",
            "Successfully built wget\n",
            "Installing collected packages: wget\n",
            "Successfully installed wget-3.2\n"
          ],
          "name": "stdout"
        }
      ]
    },
    {
      "cell_type": "code",
      "metadata": {
        "id": "_L9fFWCYfC2W",
        "colab_type": "code",
        "colab": {}
      },
      "source": [
        "%tensorflow_version 2.x"
      ],
      "execution_count": 0,
      "outputs": []
    },
    {
      "cell_type": "code",
      "metadata": {
        "id": "sodFSZf-HcWU",
        "colab_type": "code",
        "colab": {}
      },
      "source": [
        "import tarfile\n",
        "import wget\n",
        "import os\n",
        "import re\n",
        "import pickle\n",
        "import numpy as np\n",
        "from tqdm import tqdm\n",
        "import tensorflow as tf\n",
        "from sklearn.model_selection import train_test_split"
      ],
      "execution_count": 0,
      "outputs": []
    },
    {
      "cell_type": "markdown",
      "metadata": {
        "id": "AS8E1W3YcgHb",
        "colab_type": "text"
      },
      "source": [
        "# Load Data\n"
      ]
    },
    {
      "cell_type": "code",
      "metadata": {
        "id": "eBCUWur8V-jq",
        "colab_type": "code",
        "colab": {
          "base_uri": "https://localhost:8080/",
          "height": 34
        },
        "outputId": "e2c40cc4-440b-43c5-c9ef-c3b0b6711a54"
      },
      "source": [
        "print('Downloading dataset...')\n",
        "url = 'http://www.statmt.org/europarl/v7/fr-en.tgz'\n",
        "\n",
        "if not os.path.exists('./fr-en.tgz'):\n",
        "    wget.download(url, './fr-en.tgz')\n",
        "\n",
        "if not (os.path.exists('./europarl-v7.fr-en.fr') and os.path.exists('./europarl-v7.fr-en.en')):\n",
        "    taf = tarfile.open(\"./fr-en.tgz\")\n",
        "    taf.extractall()"
      ],
      "execution_count": 6,
      "outputs": [
        {
          "output_type": "stream",
          "text": [
            "Downloading dataset...\n"
          ],
          "name": "stdout"
        }
      ]
    },
    {
      "cell_type": "code",
      "metadata": {
        "id": "KATAbhH-WTM0",
        "colab_type": "code",
        "colab": {
          "base_uri": "https://localhost:8080/",
          "height": 102
        },
        "outputId": "2d84d0b5-1d75-446f-8dfe-1a2ed4b67057"
      },
      "source": [
        "os.listdir()"
      ],
      "execution_count": 7,
      "outputs": [
        {
          "output_type": "execute_result",
          "data": {
            "text/plain": [
              "['.config',\n",
              " 'europarl-v7.fr-en.en',\n",
              " 'fr-en.tgz',\n",
              " 'europarl-v7.fr-en.fr',\n",
              " 'sample_data']"
            ]
          },
          "metadata": {
            "tags": []
          },
          "execution_count": 7
        }
      ]
    },
    {
      "cell_type": "markdown",
      "metadata": {
        "id": "-s0Ct5uhcjpt",
        "colab_type": "text"
      },
      "source": [
        "# Prepare Data"
      ]
    },
    {
      "cell_type": "code",
      "metadata": {
        "id": "tH5WNvK9j84Z",
        "colab_type": "code",
        "colab": {}
      },
      "source": [
        "def load_doc(filename):\n",
        "\tfile = open(filename, mode='rt', encoding='utf-8')\n",
        "\ttext = file.read()\n",
        "\tfile.close()\n",
        "\treturn text"
      ],
      "execution_count": 0,
      "outputs": []
    },
    {
      "cell_type": "code",
      "metadata": {
        "id": "rlBG2NfC7ijG",
        "colab_type": "code",
        "colab": {}
      },
      "source": [
        "def to_sentences(doc):\n",
        "    return doc.strip().lower().split('\\n')"
      ],
      "execution_count": 0,
      "outputs": []
    },
    {
      "cell_type": "code",
      "metadata": {
        "id": "jmQq_p_373jc",
        "colab_type": "code",
        "colab": {}
      },
      "source": [
        "def preprocess_sentence(w):\n",
        "    w = re.sub(r\"([?.!,¿])\", r\" \\1 \", w)    # pad punctuations with space on both sides \n",
        "    w = re.sub(r'[\" \"]+', \" \", w)       # replace multiple spaces with a single space\n",
        "    w = re.sub(r\"[^a-zA-Z?.!,¿]+\", \" \", w)      # replace everything with space except (a-z, A-Z, \".\", \"?\", \"!\", \",\")\n",
        "    w = w.strip()\n",
        "    #w = '<start> ' + w + ' <end>'\n",
        "    return w"
      ],
      "execution_count": 0,
      "outputs": []
    },
    {
      "cell_type": "code",
      "metadata": {
        "id": "5GlSdcBbWTu5",
        "colab_type": "code",
        "colab": {}
      },
      "source": [
        "def add_start_token(w):\n",
        "    w  = '<start> ' + w\n",
        "    return w"
      ],
      "execution_count": 0,
      "outputs": []
    },
    {
      "cell_type": "code",
      "metadata": {
        "id": "k4eXaDmmwWSW",
        "colab_type": "code",
        "colab": {}
      },
      "source": [
        "def add_end_token(w):\n",
        "    w = w + ' <end>'\n",
        "    return w"
      ],
      "execution_count": 0,
      "outputs": []
    },
    {
      "cell_type": "code",
      "metadata": {
        "id": "0tmJESseA1kA",
        "colab_type": "code",
        "colab": {}
      },
      "source": [
        "def create_dataset(num_samples):\n",
        "    en = to_sentences(load_doc('./europarl-v7.fr-en.en'))\n",
        "    fr = to_sentences(load_doc('./europarl-v7.fr-en.fr'))\n",
        "\n",
        "    e_sents_op = [add_end_token(preprocess_sentence(w)) for w in en]\n",
        "    e_sents_ip = [add_start_token(w) for w in e_sents_op]\n",
        "    f_sents = [add_start_token(add_end_token(preprocess_sentence(w))) for w in fr]\n",
        "\n",
        "\n",
        "    return e_sents_ip[:num_samples], e_sents_op[:num_samples], f_sents[:num_samples]"
      ],
      "execution_count": 0,
      "outputs": []
    },
    {
      "cell_type": "code",
      "metadata": {
        "id": "eyQuW0vOD9VN",
        "colab_type": "code",
        "colab": {}
      },
      "source": [
        "def tokenize(lang):\n",
        "    lang_tokenizer = tf.keras.preprocessing.text.Tokenizer(filters='', oov_token=\"<unk>\")\n",
        "    lang_tokenizer.fit_on_texts(lang)\n",
        "    tensor = lang_tokenizer.texts_to_sequences(lang)\n",
        "    tensor = tf.keras.preprocessing.sequence.pad_sequences(tensor, padding='post')\n",
        "    return tensor, lang_tokenizer"
      ],
      "execution_count": 0,
      "outputs": []
    },
    {
      "cell_type": "code",
      "metadata": {
        "id": "8oWBvNfVOt9a",
        "colab_type": "code",
        "colab": {}
      },
      "source": [
        "def max_length(tensor):\n",
        "  return max(len(t) for t in tensor)"
      ],
      "execution_count": 0,
      "outputs": []
    },
    {
      "cell_type": "code",
      "metadata": {
        "id": "tPoRlDJcHIAo",
        "colab_type": "code",
        "colab": {}
      },
      "source": [
        "def load_dataset(num_samples):\n",
        "\n",
        "    en_ip, en_op, fr = create_dataset(num_samples)\n",
        "\n",
        "\n",
        "    en_tensor_ip, en_tokenizer = tokenize(en_ip)\n",
        "\n",
        "    en_tensor_op = en_tokenizer.texts_to_sequences(en_op)\n",
        "    en_tensor_op = tf.keras.preprocessing.sequence.pad_sequences(en_tensor_op, maxlen=max_length(en_tensor_ip) ,padding='post')\n",
        "\n",
        "    fr_tensor, fr_tokenizer = tokenize(fr)\n",
        "\n",
        "    return fr_tensor, en_tensor_ip, en_tensor_op, fr_tokenizer, en_tokenizer"
      ],
      "execution_count": 0,
      "outputs": []
    },
    {
      "cell_type": "code",
      "metadata": {
        "id": "zwtfzlodH2Op",
        "colab_type": "code",
        "colab": {}
      },
      "source": [
        "enc_input, dec_input, dec_target, inp_lang, targ_lang = load_dataset(1000)"
      ],
      "execution_count": 0,
      "outputs": []
    },
    {
      "cell_type": "code",
      "metadata": {
        "id": "TjDha5e5Mali",
        "colab_type": "code",
        "colab": {
          "base_uri": "https://localhost:8080/",
          "height": 34
        },
        "outputId": "000ffad8-5054-417f-ba03-7f7f69131e00"
      },
      "source": [
        "enc_inp_train, enc_inp_test, dec_inp_train, _, dec_op_train, dec_op_test = train_test_split(enc_input, dec_input, dec_target, test_size=0.2)\n",
        "print(len(enc_inp_train), len(enc_inp_test), len(dec_inp_train), len(dec_op_train), len(dec_op_test))"
      ],
      "execution_count": 19,
      "outputs": [
        {
          "output_type": "stream",
          "text": [
            "800 200 800 800 200\n"
          ],
          "name": "stdout"
        }
      ]
    },
    {
      "cell_type": "code",
      "metadata": {
        "id": "gfBUWZxbOvGR",
        "colab_type": "code",
        "colab": {
          "base_uri": "https://localhost:8080/",
          "height": 34
        },
        "outputId": "7b97c202-8cd8-4f71-8f17-adfd8f2ebc05"
      },
      "source": [
        "inp_max_len, tar_max_len = max_length(enc_input), max_length(dec_input)\n",
        "print(inp_max_len, tar_max_len)"
      ],
      "execution_count": 23,
      "outputs": [
        {
          "output_type": "stream",
          "text": [
            "168 133\n"
          ],
          "name": "stdout"
        }
      ]
    },
    {
      "cell_type": "code",
      "metadata": {
        "id": "zrGmrwUGUMGP",
        "colab_type": "code",
        "colab": {}
      },
      "source": [
        "BUFFER_SIZE = len(enc_inp_train)\n",
        "BATCH_SIZE = 128\n",
        "steps_per_epoch = len(enc_inp_train)//BATCH_SIZE\n",
        "embedding_dim = 1000\n",
        "units = 1000\n",
        "vocab_inp_size = len(inp_lang.word_index)+1\n",
        "vocab_tar_size = len(targ_lang.word_index)+1\n",
        "\n",
        "dataset = tf.data.Dataset.from_tensor_slices((enc_inp_train, dec_inp_train, dec_op_train)).shuffle(BUFFER_SIZE)\n",
        "dataset = dataset.batch(BATCH_SIZE, drop_remainder=True)"
      ],
      "execution_count": 0,
      "outputs": []
    },
    {
      "cell_type": "markdown",
      "metadata": {
        "id": "A-S0nVxEcnNS",
        "colab_type": "text"
      },
      "source": [
        "# Model"
      ]
    },
    {
      "cell_type": "code",
      "metadata": {
        "id": "m_qJuVEcU67K",
        "colab_type": "code",
        "colab": {}
      },
      "source": [
        "# encoder\n",
        "\n",
        "enc_inp = tf.keras.Input((None, vocab_inp_size))\n",
        "#inp_emb = tf.keras.layers.Embedding(vocab_inp_size, embedding_dim, mask_zero=True)(enc_inp)\n",
        "\n",
        "#enc_lstm_1 = tf.keras.layers.LSTM(units, return_sequences=True)(enc_inp)#_emb)\n",
        "#enc_lstm_2 = tf.keras.layers.LSTM(units, return_sequences=True)(enc_lstm_1)\n",
        "#enc_lstm_3 = tf.keras.layers.LSTM(units, return_sequences=True)(enc_lstm_2)\n",
        "\n",
        "enc_op, state_h, state_c = tf.keras.layers.LSTM(units, return_state=True)(enc_inp)\n",
        "encoder_states = [state_h, state_c]"
      ],
      "execution_count": 0,
      "outputs": []
    },
    {
      "cell_type": "code",
      "metadata": {
        "id": "lLdS0dUcR62Y",
        "colab_type": "code",
        "colab": {}
      },
      "source": [
        "# decoder\n",
        "\n",
        "dec_lstm = tf.keras.layers.LSTM(units, activation='softmax', return_sequences=True, return_state=True)\n",
        "dec_dense = tf.keras.layers.Dense(vocab_tar_size, activation='softmax')\n",
        "\n",
        "dec_inp = tf.keras.Input((None, vocab_tar_size))\n",
        "#tar_emb = tf.keras.layers.Embedding(vocab_tar_size, embedding_dim, mask_zero=True)(dec_inp)\n",
        "dec_op, _, _ = dec_lstm(dec_inp, initial_state=encoder_states)\n",
        "outputs = dec_dense(dec_op)"
      ],
      "execution_count": 0,
      "outputs": []
    },
    {
      "cell_type": "code",
      "metadata": {
        "id": "Wi-WK_86injq",
        "colab_type": "code",
        "colab": {
          "base_uri": "https://localhost:8080/",
          "height": 761
        },
        "outputId": "9b567b66-bd8e-4b1f-9a38-25efba83c56c"
      },
      "source": [
        "seq2seq = tf.keras.Model([enc_inp, dec_inp], outputs)\n",
        "seq2seq.summary()\n",
        "tf.keras.utils.plot_model(seq2seq, to_file='seq2seq_plot.png', show_shapes=True, show_layer_names=True)"
      ],
      "execution_count": 27,
      "outputs": [
        {
          "output_type": "stream",
          "text": [
            "Model: \"model\"\n",
            "__________________________________________________________________________________________________\n",
            "Layer (type)                    Output Shape         Param #     Connected to                     \n",
            "==================================================================================================\n",
            "input_1 (InputLayer)            [(None, None, 3764)] 0                                            \n",
            "__________________________________________________________________________________________________\n",
            "input_2 (InputLayer)            [(None, None, 3329)] 0                                            \n",
            "__________________________________________________________________________________________________\n",
            "lstm (LSTM)                     [(None, 1000), (None 19060000    input_1[0][0]                    \n",
            "__________________________________________________________________________________________________\n",
            "lstm_1 (LSTM)                   [(None, None, 1000), 17320000    input_2[0][0]                    \n",
            "                                                                 lstm[0][1]                       \n",
            "                                                                 lstm[0][2]                       \n",
            "__________________________________________________________________________________________________\n",
            "dense (Dense)                   (None, None, 3329)   3332329     lstm_1[0][0]                     \n",
            "==================================================================================================\n",
            "Total params: 39,712,329\n",
            "Trainable params: 39,712,329\n",
            "Non-trainable params: 0\n",
            "__________________________________________________________________________________________________\n"
          ],
          "name": "stdout"
        },
        {
          "output_type": "execute_result",
          "data": {
            "image/png": "[encoded data removed]",
            "text/plain": [
              "<IPython.core.display.Image object>"
            ]
          },
          "metadata": {
            "tags": []
          },
          "execution_count": 27
        }
      ]
    },
    {
      "cell_type": "markdown",
      "metadata": {
        "id": "HefUMf4qk_ko",
        "colab_type": "text"
      },
      "source": [
        "# Train"
      ]
    },
    {
      "cell_type": "code",
      "metadata": {
        "id": "2Pt-7XKCi77Q",
        "colab_type": "code",
        "colab": {}
      },
      "source": [
        "opt = tf.keras.optimizers.Adam()\n",
        "#loss = tf.keras.losses.SparseCategoricalCrossentropy(from_ reduction='none')\n",
        "\n",
        "seq2seq.compile(optimizer=opt, loss='categorical_crossentropy')"
      ],
      "execution_count": 0,
      "outputs": []
    },
    {
      "cell_type": "code",
      "metadata": {
        "id": "V3fEykz1qdei",
        "colab_type": "code",
        "colab": {}
      },
      "source": [
        "EPOCHS = 1"
      ],
      "execution_count": 0,
      "outputs": []
    },
    {
      "cell_type": "code",
      "metadata": {
        "id": "cUwZdubXPkk9",
        "colab_type": "code",
        "colab": {
          "base_uri": "https://localhost:8080/",
          "height": 543
        },
        "outputId": "17cda426-8358-4809-d69f-20d7a1436105"
      },
      "source": [
        "for epoch in range(EPOCHS):\n",
        "    print('Epoch : %d / %d '% ((epoch+1), EPOCHS))\n",
        "    for batch, (enc_ip, dec_ip, dec_op) in enumerate(dataset.take(steps_per_epoch)):\n",
        "        print('Step : %d / %d' % ((batch+1), steps_per_epoch))\n",
        "        enc_ip = tf.one_hot(enc_ip, depth = vocab_inp_size)\n",
        "        dec_ip = tf.one_hot(dec_ip, depth = vocab_tar_size)\n",
        "        dec_op = tf.one_hot(dec_op, depth=vocab_tar_size)\n",
        "        print(enc_ip.shape)\n",
        "        print(dec_ip.shape)\n",
        "        print(dec_op.shape)\n",
        "        op = seq2seq.predict([enc_ip, dec_ip])\n",
        "        print(op.shape)\n",
        "        seq2seq.train_on_batch([enc_ip, dec_ip], dec_op)"
      ],
      "execution_count": 30,
      "outputs": [
        {
          "output_type": "stream",
          "text": [
            "Epoch : 1 / 1 \n",
            "Step : 1 / 6\n",
            "(128, 168, 3764)\n",
            "(128, 133, 3329)\n",
            "(128, 133, 3329)\n",
            "(128, 133, 3329)\n",
            "Step : 2 / 6\n",
            "(128, 168, 3764)\n",
            "(128, 133, 3329)\n",
            "(128, 133, 3329)\n",
            "(128, 133, 3329)\n",
            "Step : 3 / 6\n",
            "(128, 168, 3764)\n",
            "(128, 133, 3329)\n",
            "(128, 133, 3329)\n",
            "(128, 133, 3329)\n",
            "Step : 4 / 6\n",
            "(128, 168, 3764)\n",
            "(128, 133, 3329)\n",
            "(128, 133, 3329)\n",
            "(128, 133, 3329)\n",
            "Step : 5 / 6\n",
            "(128, 168, 3764)\n",
            "(128, 133, 3329)\n",
            "(128, 133, 3329)\n",
            "(128, 133, 3329)\n",
            "Step : 6 / 6\n",
            "(128, 168, 3764)\n",
            "(128, 133, 3329)\n",
            "(128, 133, 3329)\n",
            "(128, 133, 3329)\n"
          ],
          "name": "stdout"
        }
      ]
    },
    {
      "cell_type": "markdown",
      "metadata": {
        "id": "eXdrWrpl0c7m",
        "colab_type": "text"
      },
      "source": [
        "# Inference"
      ]
    },
    {
      "cell_type": "code",
      "metadata": {
        "id": "mqKAc3-SmGT2",
        "colab_type": "code",
        "colab": {}
      },
      "source": [
        "encoder_model = tf.keras.Model(enc_inp, encoder_states)\n",
        "\n",
        "state_inp_h = tf.keras.Input(shape=(units,))\n",
        "state_inp_c = tf.keras.Input(shape=(units,))\n",
        "dec_state_inps = [state_inp_h, state_inp_c]\n",
        "decoder_op, state_h, state_c = dec_lstm(dec_inp, initial_state = dec_state_inps) \n",
        "decoder_op = dec_dense(decoder_op)\n",
        "decoder_states = [state_h, state_c]\n",
        "\n",
        "decoder_model = tf.keras.Model([dec_inp]+dec_state_inps, [decoder_op]+decoder_states)"
      ],
      "execution_count": 0,
      "outputs": []
    },
    {
      "cell_type": "code",
      "metadata": {
        "id": "A8piGDblixxY",
        "colab_type": "code",
        "colab": {
          "base_uri": "https://localhost:8080/",
          "height": 201
        },
        "outputId": "99cd6c3a-8e92-410c-f199-eb0d47c0e310"
      },
      "source": [
        "tf.keras.utils.plot_model(encoder_model, to_file='encoder_model_plot.png', show_shapes=True, show_layer_names=True)"
      ],
      "execution_count": 49,
      "outputs": [
        {
          "output_type": "execute_result",
          "data": {
            "image/png": "[encoded data removed]",
            "text/plain": [
              "<IPython.core.display.Image object>"
            ]
          },
          "metadata": {
            "tags": []
          },
          "execution_count": 49
        }
      ]
    },
    {
      "cell_type": "code",
      "metadata": {
        "id": "Fx-DvPT0i7ns",
        "colab_type": "code",
        "colab": {
          "base_uri": "https://localhost:8080/",
          "height": 332
        },
        "outputId": "8af784e3-b868-41a6-b782-254f3c80a3bf"
      },
      "source": [
        "tf.keras.utils.plot_model(decoder_model, to_file='decoder_model_plot.png', show_shapes=True, show_layer_names=True)"
      ],
      "execution_count": 50,
      "outputs": [
        {
          "output_type": "execute_result",
          "data": {
            "image/png": "[encoded data removed]",
            "text/plain": [
              "<IPython.core.display.Image object>"
            ]
          },
          "metadata": {
            "tags": []
          },
          "execution_count": 50
        }
      ]
    },
    {
      "cell_type": "code",
      "metadata": {
        "id": "MsCvrYsEGXjE",
        "colab_type": "code",
        "colab": {}
      },
      "source": [
        "def inference_preprocess(input_seq):\n",
        "    input_seq = add_end_token(add_start_token(preprocess_sentence(input_seq)))\n",
        "    input_seq = inp_lang.texts_to_sequences(input_seq)\n",
        "    input_seq = tf.keras.preprocessing.sequence.pad_sequences(input_seq, inp_max_len, padding='post')\n",
        "    input_seq = tf.one_hot(input_seq, depth=vocab_inp_size)\n",
        "\n",
        "    return input_seq"
      ],
      "execution_count": 0,
      "outputs": []
    },
    {
      "cell_type": "code",
      "metadata": {
        "id": "ny7vaqt7b-BW",
        "colab_type": "code",
        "colab": {}
      },
      "source": [
        "def decode_sequence(input_seq):\n",
        "\n",
        "    input_seq = inference_preprocess(input_seq)\n",
        "    states = encoder_model.predict(input_seq)\n",
        "    \n",
        "    target_seq = np.zeros((1,1,vocab_tar_size))\n",
        "    target_seq[0, 0, targ_lang.word_index['<start>']] = 1\n",
        "    decoded_sent = \" \"\n",
        "    \n",
        "\n",
        "    for t in range(tar_max_len):\n",
        "        print(\"in\")\n",
        "        \n",
        "        #print(states.shape)\n",
        "        output_tokens, state_h, state_c = decoder_model.predict([target_seq]+states)\n",
        "\n",
        "        #print(output_tokens.shape)\n",
        "\n",
        "        sampled_token = tf.math.argmax(output_tokens[0, -1, :])\n",
        "        sampled_word = targ_lang.index_word[sampled_token]\n",
        "\n",
        "        if sampled_word == '<end>':\n",
        "            return decoded_sent\n",
        "\n",
        "        decoded_sent = decoded_sent + sampled_word + \" \"\n",
        "\n",
        "        target_seq = np.zeros((1,1,vocab_tar_size))\n",
        "        target_seq[0, 0, sampled_token] = 1\n",
        "        states = [state_h, state_c]\n",
        "    return decoded_sent"
      ],
      "execution_count": 0,
      "outputs": []
    },
    {
      "cell_type": "code",
      "metadata": {
        "id": "GdVnuyLIMrQc",
        "colab_type": "code",
        "colab": {
          "base_uri": "https://localhost:8080/",
          "height": 325
        },
        "outputId": "9d20c5a7-47e5-4455-8f47-150ea6b24f21"
      },
      "source": [
        "decode_sequence(\"salut comment allez-vous?\")"
      ],
      "execution_count": 64,
      "outputs": [
        {
          "output_type": "stream",
          "text": [
            "in\n"
          ],
          "name": "stdout"
        },
        {
          "output_type": "error",
          "ename": "ValueError",
          "evalue": "ignored",
          "traceback": [
            "\u001b[0;31m---------------------------------------------------------------------------\u001b[0m",
            "\u001b[0;31mValueError\u001b[0m                                Traceback (most recent call last)",
            "\u001b[0;32m<ipython-input-64-71d4d1745b01>\u001b[0m in \u001b[0;36m<module>\u001b[0;34m()\u001b[0m\n\u001b[0;32m----> 1\u001b[0;31m \u001b[0mdecode_sequence\u001b[0m\u001b[0;34m(\u001b[0m\u001b[0;34m\"salut comment allez-vous?\"\u001b[0m\u001b[0;34m)\u001b[0m\u001b[0;34m\u001b[0m\u001b[0;34m\u001b[0m\u001b[0m\n\u001b[0m",
            "\u001b[0;32m<ipython-input-63-49fb24899139>\u001b[0m in \u001b[0;36mdecode_sequence\u001b[0;34m(input_seq)\u001b[0m\n\u001b[1;32m     16\u001b[0m         \u001b[0mtarget_seq\u001b[0m \u001b[0;34m=\u001b[0m \u001b[0mtf\u001b[0m\u001b[0;34m.\u001b[0m\u001b[0mconvert_to_tensor\u001b[0m\u001b[0;34m(\u001b[0m\u001b[0mtarget_seq\u001b[0m\u001b[0;34m)\u001b[0m\u001b[0;34m\u001b[0m\u001b[0;34m\u001b[0m\u001b[0m\n\u001b[1;32m     17\u001b[0m \u001b[0;34m\u001b[0m\u001b[0m\n\u001b[0;32m---> 18\u001b[0;31m         \u001b[0mabc\u001b[0m\u001b[0;34m,\u001b[0m \u001b[0msh\u001b[0m\u001b[0;34m,\u001b[0m \u001b[0msc\u001b[0m \u001b[0;34m=\u001b[0m \u001b[0mdec_lstm\u001b[0m\u001b[0;34m(\u001b[0m\u001b[0mtarget_seq\u001b[0m\u001b[0;34m,\u001b[0m \u001b[0minitial_state\u001b[0m\u001b[0;34m=\u001b[0m\u001b[0mstates\u001b[0m\u001b[0;34m)\u001b[0m\u001b[0;34m\u001b[0m\u001b[0;34m\u001b[0m\u001b[0m\n\u001b[0m\u001b[1;32m     19\u001b[0m         \u001b[0moutput_tokens\u001b[0m \u001b[0;34m=\u001b[0m \u001b[0mdec_dense\u001b[0m\u001b[0;34m(\u001b[0m\u001b[0mabc\u001b[0m\u001b[0;34m)\u001b[0m\u001b[0;34m\u001b[0m\u001b[0;34m\u001b[0m\u001b[0m\n\u001b[1;32m     20\u001b[0m \u001b[0;34m\u001b[0m\u001b[0m\n",
            "\u001b[0;32m/tensorflow-2.1.0/python3.6/tensorflow_core/python/keras/layers/recurrent.py\u001b[0m in \u001b[0;36m__call__\u001b[0;34m(self, inputs, initial_state, constants, **kwargs)\u001b[0m\n\u001b[1;32m    666\u001b[0m     \u001b[0mflat_additional_inputs\u001b[0m \u001b[0;34m=\u001b[0m \u001b[0mnest\u001b[0m\u001b[0;34m.\u001b[0m\u001b[0mflatten\u001b[0m\u001b[0;34m(\u001b[0m\u001b[0madditional_inputs\u001b[0m\u001b[0;34m)\u001b[0m\u001b[0;34m\u001b[0m\u001b[0;34m\u001b[0m\u001b[0m\n\u001b[1;32m    667\u001b[0m     is_keras_tensor = K.is_keras_tensor(\n\u001b[0;32m--> 668\u001b[0;31m         flat_additional_inputs[0]) if flat_additional_inputs else True\n\u001b[0m\u001b[1;32m    669\u001b[0m     \u001b[0;32mfor\u001b[0m \u001b[0mtensor\u001b[0m \u001b[0;32min\u001b[0m \u001b[0mflat_additional_inputs\u001b[0m\u001b[0;34m:\u001b[0m\u001b[0;34m\u001b[0m\u001b[0;34m\u001b[0m\u001b[0m\n\u001b[1;32m    670\u001b[0m       \u001b[0;32mif\u001b[0m \u001b[0mK\u001b[0m\u001b[0;34m.\u001b[0m\u001b[0mis_keras_tensor\u001b[0m\u001b[0;34m(\u001b[0m\u001b[0mtensor\u001b[0m\u001b[0;34m)\u001b[0m \u001b[0;34m!=\u001b[0m \u001b[0mis_keras_tensor\u001b[0m\u001b[0;34m:\u001b[0m\u001b[0;34m\u001b[0m\u001b[0;34m\u001b[0m\u001b[0m\n",
            "\u001b[0;32m/tensorflow-2.1.0/python3.6/tensorflow_core/python/keras/backend.py\u001b[0m in \u001b[0;36mis_keras_tensor\u001b[0;34m(x)\u001b[0m\n\u001b[1;32m    985\u001b[0m                         sparse_tensor.SparseTensor)):\n\u001b[1;32m    986\u001b[0m     raise ValueError('Unexpectedly found an instance of type `' + str(type(x)) +\n\u001b[0;32m--> 987\u001b[0;31m                      '`. Expected a symbolic tensor instance.')\n\u001b[0m\u001b[1;32m    988\u001b[0m   \u001b[0;32mreturn\u001b[0m \u001b[0mhasattr\u001b[0m\u001b[0;34m(\u001b[0m\u001b[0mx\u001b[0m\u001b[0;34m,\u001b[0m \u001b[0;34m'_keras_history'\u001b[0m\u001b[0;34m)\u001b[0m\u001b[0;34m\u001b[0m\u001b[0;34m\u001b[0m\u001b[0m\n\u001b[1;32m    989\u001b[0m \u001b[0;34m\u001b[0m\u001b[0m\n",
            "\u001b[0;31mValueError\u001b[0m: Unexpectedly found an instance of type `<class 'numpy.ndarray'>`. Expected a symbolic tensor instance."
          ]
        }
      ]
    },
    {
      "cell_type": "code",
      "metadata": {
        "id": "-FlkdPs1My12",
        "colab_type": "code",
        "colab": {}
      },
      "source": [
        ""
      ],
      "execution_count": 0,
      "outputs": []
    }
  ]
}