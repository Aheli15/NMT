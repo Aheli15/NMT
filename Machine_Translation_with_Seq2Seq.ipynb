{
  "nbformat": 4,
  "nbformat_minor": 0,
  "metadata": {
    "colab": {
      "name": "Machine Translation with Seq2Seq.ipynb",
      "provenance": [],
      "collapsed_sections": [],
      "machine_shape": "hm",
      "authorship_tag": "ABX9TyOIofW+lrNtUcwUdOSpASJZ"
    },
    "kernelspec": {
      "name": "python3",
      "display_name": "Python 3"
    }
  },
  "cells": [
    {
      "cell_type": "code",
      "metadata": {
        "id": "KqKqP5FmjH47",
        "colab_type": "code",
        "colab": {
          "base_uri": "https://localhost:8080/",
          "height": 190
        },
        "outputId": "f6954b27-7e5c-4955-982a-4ed949d49cc4"
      },
      "source": [
        "!pip install wget"
      ],
      "execution_count": 5,
      "outputs": [
        {
          "output_type": "stream",
          "text": [
            "Collecting wget\n",
            "  Downloading https://files.pythonhosted.org/packages/47/6a/62e288da7bcda82b935ff0c6cfe542970f04e29c756b0e147251b2fb251f/wget-3.2.zip\n",
            "Building wheels for collected packages: wget\n",
            "  Building wheel for wget (setup.py) ... \u001b[?25l\u001b[?25hdone\n",
            "  Created wheel for wget: filename=wget-3.2-cp36-none-any.whl size=9682 sha256=5f944509bf32b32d2eb49f46b4442b7d799d3785b2cf5df64628d8c90e7866d7\n",
            "  Stored in directory: /root/.cache/pip/wheels/40/15/30/7d8f7cea2902b4db79e3fea550d7d7b85ecb27ef992b618f3f\n",
            "Successfully built wget\n",
            "Installing collected packages: wget\n",
            "Successfully installed wget-3.2\n"
          ],
          "name": "stdout"
        }
      ]
    },
    {
      "cell_type": "code",
      "metadata": {
        "id": "_L9fFWCYfC2W",
        "colab_type": "code",
        "colab": {}
      },
      "source": [
        "%tensorflow_version 2.x"
      ],
      "execution_count": 0,
      "outputs": []
    },
    {
      "cell_type": "code",
      "metadata": {
        "id": "sodFSZf-HcWU",
        "colab_type": "code",
        "colab": {}
      },
      "source": [
        "import tarfile\n",
        "import wget\n",
        "import os\n",
        "import re\n",
        "import pickle\n",
        "import numpy as np\n",
        "from tqdm import tqdm\n",
        "import tensorflow as tf\n",
        "from sklearn.model_selection import train_test_split"
      ],
      "execution_count": 0,
      "outputs": []
    },
    {
      "cell_type": "markdown",
      "metadata": {
        "id": "AS8E1W3YcgHb",
        "colab_type": "text"
      },
      "source": [
        "# Load Data\n"
      ]
    },
    {
      "cell_type": "code",
      "metadata": {
        "id": "eBCUWur8V-jq",
        "colab_type": "code",
        "colab": {
          "base_uri": "https://localhost:8080/",
          "height": 34
        },
        "outputId": "53d3b169-d19c-48b9-9c7c-25889993c09d"
      },
      "source": [
        "print('Downloading dataset...')\n",
        "url = 'http://www.statmt.org/europarl/v7/fr-en.tgz'\n",
        "\n",
        "if not os.path.exists('./fr-en.tgz'):\n",
        "    wget.download(url, './fr-en.tgz')\n",
        "\n",
        "if not (os.path.exists('./europarl-v7.fr-en.fr') and os.path.exists('./europarl-v7.fr-en.en')):\n",
        "    taf = tarfile.open(\"./fr-en.tgz\")\n",
        "    taf.extractall()"
      ],
      "execution_count": 8,
      "outputs": [
        {
          "output_type": "stream",
          "text": [
            "Downloading dataset...\n"
          ],
          "name": "stdout"
        }
      ]
    },
    {
      "cell_type": "code",
      "metadata": {
        "id": "KATAbhH-WTM0",
        "colab_type": "code",
        "colab": {
          "base_uri": "https://localhost:8080/",
          "height": 102
        },
        "outputId": "cfd22d61-375a-4986-9a3c-7c3d1224003a"
      },
      "source": [
        "os.listdir()"
      ],
      "execution_count": 9,
      "outputs": [
        {
          "output_type": "execute_result",
          "data": {
            "text/plain": [
              "['.config',\n",
              " 'europarl-v7.fr-en.en',\n",
              " 'fr-en.tgz',\n",
              " 'europarl-v7.fr-en.fr',\n",
              " 'sample_data']"
            ]
          },
          "metadata": {
            "tags": []
          },
          "execution_count": 9
        }
      ]
    },
    {
      "cell_type": "markdown",
      "metadata": {
        "id": "-s0Ct5uhcjpt",
        "colab_type": "text"
      },
      "source": [
        "# Prepare Data"
      ]
    },
    {
      "cell_type": "code",
      "metadata": {
        "id": "tH5WNvK9j84Z",
        "colab_type": "code",
        "colab": {}
      },
      "source": [
        "def load_doc(filename):\n",
        "\tfile = open(filename, mode='rt', encoding='utf-8')\n",
        "\ttext = file.read()\n",
        "\tfile.close()\n",
        "\treturn text"
      ],
      "execution_count": 0,
      "outputs": []
    },
    {
      "cell_type": "code",
      "metadata": {
        "id": "rlBG2NfC7ijG",
        "colab_type": "code",
        "colab": {}
      },
      "source": [
        "def to_sentences(doc):\n",
        "    return doc.strip().lower().split('\\n')"
      ],
      "execution_count": 0,
      "outputs": []
    },
    {
      "cell_type": "code",
      "metadata": {
        "id": "jmQq_p_373jc",
        "colab_type": "code",
        "colab": {}
      },
      "source": [
        "def preprocess_sentence(w):\n",
        "    w = re.sub(r\"([?.!,¿])\", r\" \\1 \", w)    # pad punctuations with space on both sides \n",
        "    w = re.sub(r'[\" \"]+', \" \", w)       # replace multiple spaces with a single space\n",
        "    w = re.sub(r\"[^a-zA-Z?.!,¿]+\", \" \", w)      # replace everything with space except (a-z, A-Z, \".\", \"?\", \"!\", \",\")\n",
        "    w = w.strip()\n",
        "    #w = '<start> ' + w + ' <end>'\n",
        "    return w"
      ],
      "execution_count": 0,
      "outputs": []
    },
    {
      "cell_type": "code",
      "metadata": {
        "id": "k4eXaDmmwWSW",
        "colab_type": "code",
        "colab": {}
      },
      "source": [
        "def add_tokens(w):\n",
        "    w = '<start> ' + w + ' <end>'\n",
        "    return w"
      ],
      "execution_count": 0,
      "outputs": []
    },
    {
      "cell_type": "code",
      "metadata": {
        "id": "0tmJESseA1kA",
        "colab_type": "code",
        "colab": {}
      },
      "source": [
        "def create_dataset(num_samples):\n",
        "    en = to_sentences(load_doc('./europarl-v7.fr-en.en'))\n",
        "    fr = to_sentences(load_doc('./europarl-v7.fr-en.fr'))\n",
        "\n",
        "    e_sents = [preprocess_sentence(w) for w in en]\n",
        "    f_sents = [preprocess_sentence(w) for w in fr]\n",
        "\n",
        "    return e_sents[:num_samples], f_sents[:num_samples]"
      ],
      "execution_count": 0,
      "outputs": []
    },
    {
      "cell_type": "code",
      "metadata": {
        "id": "eyQuW0vOD9VN",
        "colab_type": "code",
        "colab": {}
      },
      "source": [
        "def tokenize(lang):\n",
        "    lang_tokenizer = tf.keras.preprocessing.text.Tokenizer(filters='')\n",
        "    lang_tokenizer.fit_on_texts(lang)\n",
        "    tensor = lang_tokenizer.texts_to_sequences(lang)\n",
        "    tensor = tf.keras.preprocessing.sequence.pad_sequences(tensor, padding='post')\n",
        "    return tensor, lang_tokenizer"
      ],
      "execution_count": 0,
      "outputs": []
    },
    {
      "cell_type": "code",
      "metadata": {
        "id": "tPoRlDJcHIAo",
        "colab_type": "code",
        "colab": {}
      },
      "source": [
        "def load_dataset(num_samples):\n",
        "    en, fr = create_dataset(num_samples)\n",
        "    en_tensor, en_tokenizer = tokenize(en)\n",
        "    fr_tensor, fr_tokenizer = tokenize(fr)\n",
        "    return fr_tensor, en_tensor, fr_tokenizer, en_tokenizer"
      ],
      "execution_count": 0,
      "outputs": []
    },
    {
      "cell_type": "code",
      "metadata": {
        "id": "zwtfzlodH2Op",
        "colab_type": "code",
        "colab": {}
      },
      "source": [
        "input_tensor, target_tensor, inp_lang, targ_lang = load_dataset(50000)"
      ],
      "execution_count": 0,
      "outputs": []
    },
    {
      "cell_type": "code",
      "metadata": {
        "id": "TjDha5e5Mali",
        "colab_type": "code",
        "colab": {
          "base_uri": "https://localhost:8080/",
          "height": 34
        },
        "outputId": "602e7a4a-3388-499c-a653-1305e8bf2977"
      },
      "source": [
        "input_tensor_train, input_tensor_val, target_tensor_train, target_tensor_val = train_test_split(input_tensor, target_tensor, test_size=0.3)\n",
        "print(len(input_tensor_train), len(target_tensor_train), len(input_tensor_val), len(target_tensor_val))"
      ],
      "execution_count": 33,
      "outputs": [
        {
          "output_type": "stream",
          "text": [
            "35000 35000 15000 15000\n"
          ],
          "name": "stdout"
        }
      ]
    },
    {
      "cell_type": "code",
      "metadata": {
        "id": "zrGmrwUGUMGP",
        "colab_type": "code",
        "colab": {}
      },
      "source": [
        "BUFFER_SIZE = len(input_tensor_train)\n",
        "BATCH_SIZE = 128\n",
        "steps_per_epoch = len(input_tensor_train)//BATCH_SIZE\n",
        "embedding_dim = 1000\n",
        "units = 1000\n",
        "vocab_inp_size = len(inp_lang.word_index)+1\n",
        "vocab_tar_size = len(targ_lang.word_index)+1\n",
        "\n",
        "dataset = tf.data.Dataset.from_tensor_slices((input_tensor_train, target_tensor_train)).shuffle(BUFFER_SIZE)\n",
        "dataset = dataset.batch(BATCH_SIZE, drop_remainder=True)"
      ],
      "execution_count": 0,
      "outputs": []
    },
    {
      "cell_type": "code",
      "metadata": {
        "id": "_I6gYDK7U1O5",
        "colab_type": "code",
        "colab": {
          "base_uri": "https://localhost:8080/",
          "height": 34
        },
        "outputId": "893ec2ab-b161-4e5b-99dd-212bd779e467"
      },
      "source": [
        "example_input_batch, example_target_batch = next(iter(dataset))\n",
        "example_input_batch.shape, example_target_batch.shape"
      ],
      "execution_count": 35,
      "outputs": [
        {
          "output_type": "execute_result",
          "data": {
            "text/plain": [
              "(TensorShape([128, 201]), TensorShape([128, 173]))"
            ]
          },
          "metadata": {
            "tags": []
          },
          "execution_count": 35
        }
      ]
    },
    {
      "cell_type": "code",
      "metadata": {
        "id": "8oWBvNfVOt9a",
        "colab_type": "code",
        "colab": {}
      },
      "source": [
        "def max_length(tensor):\n",
        "  return max(len(t) for t in tensor)"
      ],
      "execution_count": 0,
      "outputs": []
    },
    {
      "cell_type": "code",
      "metadata": {
        "id": "gfBUWZxbOvGR",
        "colab_type": "code",
        "colab": {
          "base_uri": "https://localhost:8080/",
          "height": 34
        },
        "outputId": "63f0ecce-5a7f-4865-fead-e6971c9ca89d"
      },
      "source": [
        "inp_max_len, tar_max_len = max_length(input_tensor_train), max_length(target_tensor_train)\n",
        "print(inp_max_len, tar_max_len)"
      ],
      "execution_count": 39,
      "outputs": [
        {
          "output_type": "stream",
          "text": [
            "201 173\n"
          ],
          "name": "stdout"
        }
      ]
    },
    {
      "cell_type": "markdown",
      "metadata": {
        "id": "A-S0nVxEcnNS",
        "colab_type": "text"
      },
      "source": [
        "# Model"
      ]
    },
    {
      "cell_type": "code",
      "metadata": {
        "id": "m_qJuVEcU67K",
        "colab_type": "code",
        "colab": {}
      },
      "source": [
        "def seq2seq_model():\n",
        "    enc_inp = tf.keras.Input((inp_max_len))\n",
        "    inp_emb = tf.keras.layers.Embedding(vocab_inp_size, embedding_dim, mask_zero=True)(enc_inp)\n",
        "    enc_lstm_1 = tf.keras.layers.LSTM(units, return_sequences=True)(inp_emb)\n",
        "    enc_lstm_2 = tf.keras.layers.LSTM(units, return_sequences=True)(enc_lstm_1)\n",
        "    enc_lstm_3 = tf.keras.layers.LSTM(units, return_sequences=True)(enc_lstm_2)\n",
        "    enc_op, state_h, state_c = tf.keras.layers.LSTM(units, return_state=True)(enc_lstm_3)\n",
        "\n",
        "    dec_inp = tf.keras.Input((tar_max_len))\n",
        "    tar_emb = tf.keras.layers.Embedding(vocab_tar_size, embedding_dim, mask_zero=True)(dec_inp)\n",
        "    #dec_lstm1 = tf.keras.layers.LSTM(units, activation='softmax', return_sequences=True)(tar_emb, initial_state=[state_h, state_c])\n",
        "    #dec_lstm2 = tf.keras.layers.LSTM(units, activation='softmax', return_sequences=True)(dec_lstm1)\n",
        "    #dec_lstm3 = tf.keras.layers.LSTM(units, activation='softmax', return_sequences=True)(dec_lstm2)\n",
        "    dec_op = tf.keras.layers.LSTM(units, activation='softmax', return_sequences=True)(tar_emb, initial_state=[state_h, state_c])\n",
        "\n",
        "    outputs = tf.keras.layers.TimeDistributed(tf.keras.layers.Dense(vocab_tar_size, activation='softmax'))(dec_op)\n",
        " \n",
        "    model = tf.keras.Model([enc_inp, dec_inp], outputs)\n",
        "    return model"
      ],
      "execution_count": 0,
      "outputs": []
    },
    {
      "cell_type": "code",
      "metadata": {
        "id": "Wi-WK_86injq",
        "colab_type": "code",
        "colab": {
          "base_uri": "https://localhost:8080/",
          "height": 1000
        },
        "outputId": "24905fc6-3d59-4a59-f3ed-17822539c74a"
      },
      "source": [
        "seq2seq = seq2seq_model()\n",
        "seq2seq.summary()\n",
        "tf.keras.utils.plot_model(seq2seq, to_file='seq2seq_plot.png', show_shapes=True, show_layer_names=True)"
      ],
      "execution_count": 25,
      "outputs": [
        {
          "output_type": "stream",
          "text": [
            "Model: \"model_1\"\n",
            "__________________________________________________________________________________________________\n",
            "Layer (type)                    Output Shape         Param #     Connected to                     \n",
            "==================================================================================================\n",
            "input_3 (InputLayer)            [(None, 201)]        0                                            \n",
            "__________________________________________________________________________________________________\n",
            "embedding_2 (Embedding)         (None, 201, 1000)    23751000    input_3[0][0]                    \n",
            "__________________________________________________________________________________________________\n",
            "lstm_8 (LSTM)                   (None, 201, 1000)    8004000     embedding_2[0][0]                \n",
            "__________________________________________________________________________________________________\n",
            "lstm_9 (LSTM)                   (None, 201, 1000)    8004000     lstm_8[0][0]                     \n",
            "__________________________________________________________________________________________________\n",
            "input_4 (InputLayer)            [(None, 175)]        0                                            \n",
            "__________________________________________________________________________________________________\n",
            "lstm_10 (LSTM)                  (None, 201, 1000)    8004000     lstm_9[0][0]                     \n",
            "__________________________________________________________________________________________________\n",
            "embedding_3 (Embedding)         (None, 175, 1000)    19880000    input_4[0][0]                    \n",
            "__________________________________________________________________________________________________\n",
            "lstm_11 (LSTM)                  [(None, 1000), (None 8004000     lstm_10[0][0]                    \n",
            "__________________________________________________________________________________________________\n",
            "lstm_12 (LSTM)                  (None, 175, 1000)    8004000     embedding_3[0][0]                \n",
            "                                                                 lstm_11[0][1]                    \n",
            "                                                                 lstm_11[0][2]                    \n",
            "__________________________________________________________________________________________________\n",
            "time_distributed_1 (TimeDistrib (None, 175, 19880)   19899880    lstm_12[0][0]                    \n",
            "==================================================================================================\n",
            "Total params: 103,550,880\n",
            "Trainable params: 103,550,880\n",
            "Non-trainable params: 0\n",
            "__________________________________________________________________________________________________\n"
          ],
          "name": "stdout"
        },
        {
          "output_type": "execute_result",
          "data": {
            "image/png": "[encoded data removed]",
            "text/plain": [
              "<IPython.core.display.Image object>"
            ]
          },
          "metadata": {
            "tags": []
          },
          "execution_count": 25
        }
      ]
    },
    {
      "cell_type": "code",
      "metadata": {
        "id": "2Pt-7XKCi77Q",
        "colab_type": "code",
        "colab": {}
      },
      "source": [
        "opt = tf.keras.optimizers.Adam()\n",
        "loss = tf.keras.losses.SparseCategoricalCrossentropy(from_logits=True, reduction='none')\n",
        "seq2seq.compile(optimizer=opt, loss=loss)"
      ],
      "execution_count": 0,
      "outputs": []
    },
    {
      "cell_type": "code",
      "metadata": {
        "id": "V3fEykz1qdei",
        "colab_type": "code",
        "colab": {}
      },
      "source": [
        ""
      ],
      "execution_count": 0,
      "outputs": []
    }
  ]
}