{
  "nbformat": 4,
  "nbformat_minor": 0,
  "metadata": {
    "colab": {
      "name": "Machine Translation with Seq2Seq.ipynb",
      "provenance": [],
      "collapsed_sections": [],
      "machine_shape": "hm",
      "authorship_tag": "ABX9TyOgbiWrxWdJgjBPP86i5TMK"
    },
    "kernelspec": {
      "name": "python3",
      "display_name": "Python 3"
    }
  },
  "cells": [
    {
      "cell_type": "code",
      "metadata": {
        "id": "KqKqP5FmjH47",
        "colab_type": "code",
        "colab": {
          "base_uri": "https://localhost:8080/",
          "height": 190
        },
        "outputId": "50d85941-645b-4494-ca2e-7f7e5be3da35"
      },
      "source": [
        "!pip install wget"
      ],
      "execution_count": 1,
      "outputs": [
        {
          "output_type": "stream",
          "text": [
            "Collecting wget\n",
            "  Downloading https://files.pythonhosted.org/packages/47/6a/62e288da7bcda82b935ff0c6cfe542970f04e29c756b0e147251b2fb251f/wget-3.2.zip\n",
            "Building wheels for collected packages: wget\n",
            "  Building wheel for wget (setup.py) ... \u001b[?25l\u001b[?25hdone\n",
            "  Created wheel for wget: filename=wget-3.2-cp36-none-any.whl size=9682 sha256=ea01fd462d4a00b58733476a985c0e81533118292f36fd884a3433776fe665d6\n",
            "  Stored in directory: /root/.cache/pip/wheels/40/15/30/7d8f7cea2902b4db79e3fea550d7d7b85ecb27ef992b618f3f\n",
            "Successfully built wget\n",
            "Installing collected packages: wget\n",
            "Successfully installed wget-3.2\n"
          ],
          "name": "stdout"
        }
      ]
    },
    {
      "cell_type": "code",
      "metadata": {
        "id": "_L9fFWCYfC2W",
        "colab_type": "code",
        "colab": {
          "base_uri": "https://localhost:8080/",
          "height": 34
        },
        "outputId": "7f819b68-1e34-4edb-ed10-64f900100f2a"
      },
      "source": [
        "%tensorflow_version 2.x"
      ],
      "execution_count": 4,
      "outputs": [
        {
          "output_type": "stream",
          "text": [
            "TensorFlow 2.x selected.\n"
          ],
          "name": "stdout"
        }
      ]
    },
    {
      "cell_type": "code",
      "metadata": {
        "id": "sodFSZf-HcWU",
        "colab_type": "code",
        "colab": {}
      },
      "source": [
        "import tarfile\n",
        "import wget\n",
        "import os\n",
        "import re\n",
        "import pickle\n",
        "import numpy as np\n",
        "from tqdm import tqdm\n",
        "import tensorflow as tf\n",
        "from sklearn.model_selection import train_test_split"
      ],
      "execution_count": 0,
      "outputs": []
    },
    {
      "cell_type": "markdown",
      "metadata": {
        "id": "AS8E1W3YcgHb",
        "colab_type": "text"
      },
      "source": [
        "# Load Data\n"
      ]
    },
    {
      "cell_type": "code",
      "metadata": {
        "id": "eBCUWur8V-jq",
        "colab_type": "code",
        "colab": {
          "base_uri": "https://localhost:8080/",
          "height": 34
        },
        "outputId": "d39261db-da41-48f8-caa1-412448ac648d"
      },
      "source": [
        "print('Downloading dataset...')\n",
        "url = 'http://www.statmt.org/europarl/v7/fr-en.tgz'\n",
        "\n",
        "if not os.path.exists('./fr-en.tgz'):\n",
        "    wget.download(url, './fr-en.tgz')\n",
        "\n",
        "if not (os.path.exists('./europarl-v7.fr-en.fr') and os.path.exists('./europarl-v7.fr-en.en')):\n",
        "    taf = tarfile.open(\"./fr-en.tgz\")\n",
        "    taf.extractall()"
      ],
      "execution_count": 6,
      "outputs": [
        {
          "output_type": "stream",
          "text": [
            "Downloading dataset...\n"
          ],
          "name": "stdout"
        }
      ]
    },
    {
      "cell_type": "code",
      "metadata": {
        "id": "KATAbhH-WTM0",
        "colab_type": "code",
        "colab": {
          "base_uri": "https://localhost:8080/",
          "height": 119
        },
        "outputId": "0d13b578-bdf8-479a-8153-9a17d76f1b62"
      },
      "source": [
        "os.listdir()"
      ],
      "execution_count": 7,
      "outputs": [
        {
          "output_type": "execute_result",
          "data": {
            "text/plain": [
              "['.config',\n",
              " 'seq2seq_plot.png',\n",
              " 'europarl-v7.fr-en.fr',\n",
              " 'europarl-v7.fr-en.en',\n",
              " 'fr-en.tgz',\n",
              " 'sample_data']"
            ]
          },
          "metadata": {
            "tags": []
          },
          "execution_count": 7
        }
      ]
    },
    {
      "cell_type": "markdown",
      "metadata": {
        "id": "-s0Ct5uhcjpt",
        "colab_type": "text"
      },
      "source": [
        "# Prepare Data"
      ]
    },
    {
      "cell_type": "code",
      "metadata": {
        "id": "tH5WNvK9j84Z",
        "colab_type": "code",
        "colab": {}
      },
      "source": [
        "def load_doc(filename):\n",
        "\tfile = open(filename, mode='rt', encoding='utf-8')\n",
        "\ttext = file.read()\n",
        "\tfile.close()\n",
        "\treturn text"
      ],
      "execution_count": 0,
      "outputs": []
    },
    {
      "cell_type": "code",
      "metadata": {
        "id": "rlBG2NfC7ijG",
        "colab_type": "code",
        "colab": {}
      },
      "source": [
        "def to_sentences(doc):\n",
        "    return doc.strip().lower().split('\\n')"
      ],
      "execution_count": 0,
      "outputs": []
    },
    {
      "cell_type": "code",
      "metadata": {
        "id": "jmQq_p_373jc",
        "colab_type": "code",
        "colab": {}
      },
      "source": [
        "def preprocess_sentence(w):\n",
        "    w = re.sub(r\"([?.!,¿])\", r\" \\1 \", w)    # pad punctuations with space on both sides \n",
        "    w = re.sub(r'[\" \"]+', \" \", w)       # replace multiple spaces with a single space\n",
        "    w = re.sub(r\"[^a-zA-Z?.!,¿]+\", \" \", w)      # replace everything with space except (a-z, A-Z, \".\", \"?\", \"!\", \",\")\n",
        "    w = w.strip()\n",
        "    #w = '<start> ' + w + ' <end>'\n",
        "    return w"
      ],
      "execution_count": 0,
      "outputs": []
    },
    {
      "cell_type": "code",
      "metadata": {
        "id": "5GlSdcBbWTu5",
        "colab_type": "code",
        "colab": {}
      },
      "source": [
        "def add_start_token(w):\n",
        "    w  = '<start>' + w\n",
        "    return w"
      ],
      "execution_count": 0,
      "outputs": []
    },
    {
      "cell_type": "code",
      "metadata": {
        "id": "k4eXaDmmwWSW",
        "colab_type": "code",
        "colab": {}
      },
      "source": [
        "def add_end_token(w):\n",
        "    w = w + ' <end>'\n",
        "    return w"
      ],
      "execution_count": 0,
      "outputs": []
    },
    {
      "cell_type": "code",
      "metadata": {
        "id": "0tmJESseA1kA",
        "colab_type": "code",
        "colab": {}
      },
      "source": [
        "def create_dataset(num_samples):\n",
        "    en = to_sentences(load_doc('./europarl-v7.fr-en.en'))\n",
        "    fr = to_sentences(load_doc('./europarl-v7.fr-en.fr'))\n",
        "\n",
        "    e_sents_op = [add_end_token(preprocess_sentence(w)) for w in en]\n",
        "    e_sents_ip = [add_start_token(w) for w in e_sents_op]\n",
        "    f_sents = [add_start_token(add_end_token(preprocess_sentence(w))) for w in fr]\n",
        "\n",
        "\n",
        "    return e_sents_ip[:num_samples], e_sents_op[:num_samples], f_sents[:num_samples]"
      ],
      "execution_count": 0,
      "outputs": []
    },
    {
      "cell_type": "code",
      "metadata": {
        "id": "eyQuW0vOD9VN",
        "colab_type": "code",
        "colab": {}
      },
      "source": [
        "def tokenize(lang):\n",
        "    lang_tokenizer = tf.keras.preprocessing.text.Tokenizer(filters='', oov_token=\"<unk>\")\n",
        "    lang_tokenizer.fit_on_texts(lang)\n",
        "    tensor = lang_tokenizer.texts_to_sequences(lang)\n",
        "    tensor = tf.keras.preprocessing.sequence.pad_sequences(tensor, padding='post')\n",
        "    return tensor, lang_tokenizer"
      ],
      "execution_count": 0,
      "outputs": []
    },
    {
      "cell_type": "code",
      "metadata": {
        "id": "tPoRlDJcHIAo",
        "colab_type": "code",
        "colab": {}
      },
      "source": [
        "def load_dataset(num_samples):\n",
        "\n",
        "    en_ip, en_op, fr = create_dataset(num_samples)\n",
        "\n",
        "    en_tensor_ip, en_tokenizer = tokenize(en_ip)\n",
        "\n",
        "    en_tensor_op = en_tokenizer.texts_to_sequences(en_op)\n",
        "    en_tensor_op = tf.keras.preprocessing.sequence.pad_sequences(en_tensor_op, padding='post')\n",
        "\n",
        "    fr_tensor, fr_tokenizer = tokenize(fr)\n",
        "\n",
        "    return fr_tensor, en_tensor_ip, en_tensor_op, fr_tokenizer, en_tokenizer"
      ],
      "execution_count": 0,
      "outputs": []
    },
    {
      "cell_type": "code",
      "metadata": {
        "id": "zwtfzlodH2Op",
        "colab_type": "code",
        "colab": {}
      },
      "source": [
        "enc_input, dec_input, dec_target, inp_lang, targ_lang = load_dataset(30000)"
      ],
      "execution_count": 0,
      "outputs": []
    },
    {
      "cell_type": "code",
      "metadata": {
        "id": "TjDha5e5Mali",
        "colab_type": "code",
        "colab": {
          "base_uri": "https://localhost:8080/",
          "height": 34
        },
        "outputId": "cabcbfa8-674d-4a8e-c584-ad380af88e74"
      },
      "source": [
        "enc_inp_train, enc_inp_test, dec_inp_train, _, dec_op_train, dec_op_test = train_test_split(enc_input, dec_input, dec_target, test_size=0.3)\n",
        "print(len(enc_inp_train), len(enc_inp_test), len(dec_inp_train), len(dec_op_train), len(dec_op_test))"
      ],
      "execution_count": 18,
      "outputs": [
        {
          "output_type": "stream",
          "text": [
            "21000 9000 21000 21000 9000\n"
          ],
          "name": "stdout"
        }
      ]
    },
    {
      "cell_type": "code",
      "metadata": {
        "id": "zrGmrwUGUMGP",
        "colab_type": "code",
        "colab": {}
      },
      "source": [
        "BUFFER_SIZE = len(enc_inp_train)\n",
        "BATCH_SIZE = 128\n",
        "steps_per_epoch = len(enc_inp_train)//BATCH_SIZE\n",
        "embedding_dim = 1000\n",
        "units = 1000\n",
        "vocab_inp_size = len(inp_lang.word_index)+1\n",
        "vocab_tar_size = len(targ_lang.word_index)+1\n",
        "\n",
        "dataset = tf.data.Dataset.from_tensor_slices((enc_inp_train, dec_inp_train, dec_op_train)).shuffle(BUFFER_SIZE)\n",
        "dataset = dataset.batch(BATCH_SIZE, drop_remainder=True)"
      ],
      "execution_count": 0,
      "outputs": []
    },
    {
      "cell_type": "code",
      "metadata": {
        "id": "_I6gYDK7U1O5",
        "colab_type": "code",
        "colab": {
          "base_uri": "https://localhost:8080/",
          "height": 34
        },
        "outputId": "a1923ee5-1e5b-4343-b40b-f97c0d58c8bf"
      },
      "source": [
        "example_enc_input_batch, example_dec_input_batch, example_dec_output_batch = next(iter(dataset))\n",
        "example_enc_input_batch.shape, example_dec_input_batch.shape, example_dec_output_batch.shape"
      ],
      "execution_count": 20,
      "outputs": [
        {
          "output_type": "execute_result",
          "data": {
            "text/plain": [
              "(TensorShape([128, 185]), TensorShape([128, 167]), TensorShape([128, 167]))"
            ]
          },
          "metadata": {
            "tags": []
          },
          "execution_count": 20
        }
      ]
    },
    {
      "cell_type": "code",
      "metadata": {
        "id": "8oWBvNfVOt9a",
        "colab_type": "code",
        "colab": {}
      },
      "source": [
        "def max_length(tensor):\n",
        "  return max(len(t) for t in tensor)"
      ],
      "execution_count": 0,
      "outputs": []
    },
    {
      "cell_type": "code",
      "metadata": {
        "id": "gfBUWZxbOvGR",
        "colab_type": "code",
        "colab": {
          "base_uri": "https://localhost:8080/",
          "height": 34
        },
        "outputId": "84dee61a-2fce-4a7a-b876-1cb41cc804d5"
      },
      "source": [
        "inp_max_len, tar_max_len = max_length(enc_inp_train), max_length(dec_inp_train)\n",
        "print(inp_max_len, tar_max_len)"
      ],
      "execution_count": 23,
      "outputs": [
        {
          "output_type": "stream",
          "text": [
            "185 167\n"
          ],
          "name": "stdout"
        }
      ]
    },
    {
      "cell_type": "markdown",
      "metadata": {
        "id": "A-S0nVxEcnNS",
        "colab_type": "text"
      },
      "source": [
        "# Model"
      ]
    },
    {
      "cell_type": "code",
      "metadata": {
        "id": "m_qJuVEcU67K",
        "colab_type": "code",
        "colab": {}
      },
      "source": [
        "# encoder\n",
        "\n",
        "enc_inp = tf.keras.Input((inp_max_len))\n",
        "inp_emb = tf.keras.layers.Embedding(vocab_inp_size, embedding_dim, mask_zero=True)(enc_inp)\n",
        "\n",
        "enc_lstm_1 = tf.keras.layers.LSTM(units, return_sequences=True)(inp_emb)\n",
        "enc_lstm_2 = tf.keras.layers.LSTM(units, return_sequences=True)(enc_lstm_1)\n",
        "enc_lstm_3 = tf.keras.layers.LSTM(units, return_sequences=True)(enc_lstm_2)\n",
        "\n",
        "enc_op, state_h, state_c = tf.keras.layers.LSTM(units, return_state=True)(enc_lstm_3)\n",
        "encoder_states = [state_h, state_c]"
      ],
      "execution_count": 0,
      "outputs": []
    },
    {
      "cell_type": "code",
      "metadata": {
        "id": "lLdS0dUcR62Y",
        "colab_type": "code",
        "colab": {}
      },
      "source": [
        "# decoder\n",
        "\n",
        "dec_lstm = tf.keras.layers.LSTM(units, activation='softmax', return_sequences=True, return_state=True)\n",
        "dec_dense = tf.keras.layers.TimeDistributed(tf.keras.layers.Dense(vocab_tar_size, activation='softmax'))\n",
        "\n",
        "dec_inp = tf.keras.Input((tar_max_len))\n",
        "tar_emb = tf.keras.layers.Embedding(vocab_tar_size, embedding_dim, mask_zero=True)(dec_inp)\n",
        "dec_op, _, _ = dec_lstm(tar_emb, initial_state=encoder_states)\n",
        "outputs = dec_dense(dec_op)"
      ],
      "execution_count": 0,
      "outputs": []
    },
    {
      "cell_type": "code",
      "metadata": {
        "id": "Wi-WK_86injq",
        "colab_type": "code",
        "colab": {
          "base_uri": "https://localhost:8080/",
          "height": 1000
        },
        "outputId": "aebee8df-1002-4733-f77c-63c3f777cce5"
      },
      "source": [
        "seq2seq = tf.keras.Model([enc_inp, dec_inp], outputs)\n",
        "seq2seq.summary()\n",
        "tf.keras.utils.plot_model(seq2seq, to_file='seq2seq_plot.png', show_shapes=True, show_layer_names=True)"
      ],
      "execution_count": 28,
      "outputs": [
        {
          "output_type": "stream",
          "text": [
            "Model: \"model\"\n",
            "__________________________________________________________________________________________________\n",
            "Layer (type)                    Output Shape         Param #     Connected to                     \n",
            "==================================================================================================\n",
            "input_1 (InputLayer)            [(None, 185)]        0                                            \n",
            "__________________________________________________________________________________________________\n",
            "embedding (Embedding)           (None, 185, 1000)    20395000    input_1[0][0]                    \n",
            "__________________________________________________________________________________________________\n",
            "lstm (LSTM)                     (None, 185, 1000)    8004000     embedding[0][0]                  \n",
            "__________________________________________________________________________________________________\n",
            "lstm_1 (LSTM)                   (None, 185, 1000)    8004000     lstm[0][0]                       \n",
            "__________________________________________________________________________________________________\n",
            "input_3 (InputLayer)            [(None, 167)]        0                                            \n",
            "__________________________________________________________________________________________________\n",
            "lstm_2 (LSTM)                   (None, 185, 1000)    8004000     lstm_1[0][0]                     \n",
            "__________________________________________________________________________________________________\n",
            "embedding_2 (Embedding)         (None, 167, 1000)    17782000    input_3[0][0]                    \n",
            "__________________________________________________________________________________________________\n",
            "lstm_3 (LSTM)                   [(None, 1000), (None 8004000     lstm_2[0][0]                     \n",
            "__________________________________________________________________________________________________\n",
            "lstm_5 (LSTM)                   [(None, 167, 1000),  8004000     embedding_2[0][0]                \n",
            "                                                                 lstm_3[0][1]                     \n",
            "                                                                 lstm_3[0][2]                     \n",
            "__________________________________________________________________________________________________\n",
            "time_distributed_1 (TimeDistrib (None, 167, 17782)   17799782    lstm_5[0][0]                     \n",
            "==================================================================================================\n",
            "Total params: 95,996,782\n",
            "Trainable params: 95,996,782\n",
            "Non-trainable params: 0\n",
            "__________________________________________________________________________________________________\n"
          ],
          "name": "stdout"
        },
        {
          "output_type": "execute_result",
          "data": {
            "image/png": "[encoded data removed]",
            "text/plain": [
              "<IPython.core.display.Image object>"
            ]
          },
          "metadata": {
            "tags": []
          },
          "execution_count": 28
        }
      ]
    },
    {
      "cell_type": "markdown",
      "metadata": {
        "id": "HefUMf4qk_ko",
        "colab_type": "text"
      },
      "source": [
        "# Train"
      ]
    },
    {
      "cell_type": "code",
      "metadata": {
        "id": "2Pt-7XKCi77Q",
        "colab_type": "code",
        "colab": {}
      },
      "source": [
        "opt = tf.keras.optimizers.Adam()\n",
        "loss = tf.keras.losses.SparseCategoricalCrossentropy(from_logits=True, reduction='none')\n",
        "def loss_function(real, pred):\n",
        "    mask = tf.math.logical_not(tf.math.equal(real, 0))\n",
        "    loss_ = loss(real, pred)\n",
        "    mask = tf.cast(mask, dtype=loss_.dtype)\n",
        "    loss_ *= mask\n",
        "    return tf.reduce_mean(loss_)\n",
        "\n",
        "seq2seq.compile(optimizer=opt, loss=loss)"
      ],
      "execution_count": 0,
      "outputs": []
    },
    {
      "cell_type": "code",
      "metadata": {
        "id": "V3fEykz1qdei",
        "colab_type": "code",
        "colab": {}
      },
      "source": [
        "EPOCHS = 1"
      ],
      "execution_count": 0,
      "outputs": []
    },
    {
      "cell_type": "code",
      "metadata": {
        "id": "cUwZdubXPkk9",
        "colab_type": "code",
        "colab": {
          "base_uri": "https://localhost:8080/",
          "height": 51
        },
        "outputId": "255a8d3c-2eb4-40e9-ebc8-c4968e937bb5"
      },
      "source": [
        "for epoch in range(EPOCHS):\n",
        "    print('Epoch : %d / %d '% ((epoch+1), EPOCHS))\n",
        "    for batch, (enc_ip, dec_ip, dec_op) in enumerate(dataset.take(steps_per_epoch)):\n",
        "        print('Step : %d / %d' % ((batch+1), steps_per_epoch))\n",
        "        seq2seq.train_on_batch([enc_ip, dec_ip], dec_op)"
      ],
      "execution_count": 0,
      "outputs": [
        {
          "output_type": "stream",
          "text": [
            "Epoch : 1 / 1 \n",
            "Step : 1 / 164\n"
          ],
          "name": "stdout"
        }
      ]
    },
    {
      "cell_type": "markdown",
      "metadata": {
        "id": "eXdrWrpl0c7m",
        "colab_type": "text"
      },
      "source": [
        "# Inference"
      ]
    },
    {
      "cell_type": "code",
      "metadata": {
        "id": "mqKAc3-SmGT2",
        "colab_type": "code",
        "colab": {}
      },
      "source": [
        ""
      ],
      "execution_count": 0,
      "outputs": []
    }
  ]
}