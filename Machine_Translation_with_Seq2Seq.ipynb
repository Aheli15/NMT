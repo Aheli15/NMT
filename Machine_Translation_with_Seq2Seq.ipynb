{
  "nbformat": 4,
  "nbformat_minor": 0,
  "metadata": {
    "colab": {
      "name": "Machine Translation with Seq2Seq.ipynb",
      "provenance": [],
      "collapsed_sections": [],
      "machine_shape": "hm",
      "authorship_tag": "ABX9TyOs/UgMzK1ywtA9Pm4jTb3k"
    },
    "kernelspec": {
      "name": "python3",
      "display_name": "Python 3"
    },
    "accelerator": "GPU"
  },
  "cells": [
    {
      "cell_type": "code",
      "metadata": {
        "id": "KqKqP5FmjH47",
        "colab_type": "code",
        "colab": {
          "base_uri": "https://localhost:8080/",
          "height": 190
        },
        "outputId": "2133e054-c879-4be0-8d2f-31dc79015f4c"
      },
      "source": [
        "!pip install wget"
      ],
      "execution_count": 1,
      "outputs": [
        {
          "output_type": "stream",
          "text": [
            "Collecting wget\n",
            "  Downloading https://files.pythonhosted.org/packages/47/6a/62e288da7bcda82b935ff0c6cfe542970f04e29c756b0e147251b2fb251f/wget-3.2.zip\n",
            "Building wheels for collected packages: wget\n",
            "  Building wheel for wget (setup.py) ... \u001b[?25l\u001b[?25hdone\n",
            "  Created wheel for wget: filename=wget-3.2-cp36-none-any.whl size=9682 sha256=28087fde2ae39fe4c99d3a044b2d4851116b4621a500e6dd2eb7e84cc5ea00ea\n",
            "  Stored in directory: /root/.cache/pip/wheels/40/15/30/7d8f7cea2902b4db79e3fea550d7d7b85ecb27ef992b618f3f\n",
            "Successfully built wget\n",
            "Installing collected packages: wget\n",
            "Successfully installed wget-3.2\n"
          ],
          "name": "stdout"
        }
      ]
    },
    {
      "cell_type": "code",
      "metadata": {
        "id": "_L9fFWCYfC2W",
        "colab_type": "code",
        "colab": {
          "base_uri": "https://localhost:8080/",
          "height": 34
        },
        "outputId": "5cb4950a-5a37-41f6-aff9-44b37e4eca73"
      },
      "source": [
        "%tensorflow_version 2.x"
      ],
      "execution_count": 2,
      "outputs": [
        {
          "output_type": "stream",
          "text": [
            "TensorFlow 2.x selected.\n"
          ],
          "name": "stdout"
        }
      ]
    },
    {
      "cell_type": "code",
      "metadata": {
        "id": "sodFSZf-HcWU",
        "colab_type": "code",
        "colab": {}
      },
      "source": [
        "import tarfile\n",
        "import wget\n",
        "import os\n",
        "import re\n",
        "import pickle\n",
        "import numpy as np\n",
        "from tqdm import tqdm\n",
        "import tensorflow as tf\n",
        "from sklearn.model_selection import train_test_split"
      ],
      "execution_count": 0,
      "outputs": []
    },
    {
      "cell_type": "markdown",
      "metadata": {
        "id": "AS8E1W3YcgHb",
        "colab_type": "text"
      },
      "source": [
        "# Load Data\n"
      ]
    },
    {
      "cell_type": "code",
      "metadata": {
        "id": "eBCUWur8V-jq",
        "colab_type": "code",
        "colab": {
          "base_uri": "https://localhost:8080/",
          "height": 34
        },
        "outputId": "6b3a8ae4-20d6-4822-d064-5c036c3e36cb"
      },
      "source": [
        "print('Downloading dataset...')\n",
        "url = 'http://www.statmt.org/europarl/v7/fr-en.tgz'\n",
        "\n",
        "if not os.path.exists('./fr-en.tgz'):\n",
        "    wget.download(url, './fr-en.tgz')\n",
        "\n",
        "if not (os.path.exists('./europarl-v7.fr-en.fr') and os.path.exists('./europarl-v7.fr-en.en')):\n",
        "    taf = tarfile.open(\"./fr-en.tgz\")\n",
        "    taf.extractall()"
      ],
      "execution_count": 4,
      "outputs": [
        {
          "output_type": "stream",
          "text": [
            "Downloading dataset...\n"
          ],
          "name": "stdout"
        }
      ]
    },
    {
      "cell_type": "code",
      "metadata": {
        "id": "KATAbhH-WTM0",
        "colab_type": "code",
        "colab": {
          "base_uri": "https://localhost:8080/",
          "height": 102
        },
        "outputId": "e8839637-5c03-4e25-c95c-0ca1ba429ce3"
      },
      "source": [
        "os.listdir()"
      ],
      "execution_count": 5,
      "outputs": [
        {
          "output_type": "execute_result",
          "data": {
            "text/plain": [
              "['.config',\n",
              " 'europarl-v7.fr-en.en',\n",
              " 'fr-en.tgz',\n",
              " 'europarl-v7.fr-en.fr',\n",
              " 'sample_data']"
            ]
          },
          "metadata": {
            "tags": []
          },
          "execution_count": 5
        }
      ]
    },
    {
      "cell_type": "markdown",
      "metadata": {
        "id": "-s0Ct5uhcjpt",
        "colab_type": "text"
      },
      "source": [
        "# Prepare Data"
      ]
    },
    {
      "cell_type": "code",
      "metadata": {
        "id": "tH5WNvK9j84Z",
        "colab_type": "code",
        "colab": {}
      },
      "source": [
        "def load_doc(filename):\n",
        "\tfile = open(filename, mode='rt', encoding='utf-8')\n",
        "\ttext = file.read()\n",
        "\tfile.close()\n",
        "\treturn text"
      ],
      "execution_count": 0,
      "outputs": []
    },
    {
      "cell_type": "code",
      "metadata": {
        "id": "rlBG2NfC7ijG",
        "colab_type": "code",
        "colab": {}
      },
      "source": [
        "def to_sentences(doc):\n",
        "    return doc.strip().lower().split('\\n')"
      ],
      "execution_count": 0,
      "outputs": []
    },
    {
      "cell_type": "code",
      "metadata": {
        "id": "jmQq_p_373jc",
        "colab_type": "code",
        "colab": {}
      },
      "source": [
        "def preprocess_sentence(w):\n",
        "    w = re.sub(r\"([?.!,¿])\", r\" \\1 \", w)    # pad punctuations with space on both sides \n",
        "    w = re.sub(r'[\" \"]+', \" \", w)       # replace multiple spaces with a single space\n",
        "    w = re.sub(r\"[^a-zA-Z?.!,¿]+\", \" \", w)      # replace everything with space except (a-z, A-Z, \".\", \"?\", \"!\", \",\")\n",
        "    w = w.strip()\n",
        "    #w = '<start> ' + w + ' <end>'\n",
        "    return w"
      ],
      "execution_count": 0,
      "outputs": []
    },
    {
      "cell_type": "code",
      "metadata": {
        "id": "5GlSdcBbWTu5",
        "colab_type": "code",
        "colab": {}
      },
      "source": [
        "def add_start_token(w):\n",
        "    w  = '<start>' + w\n",
        "    return w"
      ],
      "execution_count": 0,
      "outputs": []
    },
    {
      "cell_type": "code",
      "metadata": {
        "id": "k4eXaDmmwWSW",
        "colab_type": "code",
        "colab": {}
      },
      "source": [
        "def add_end_token(w):\n",
        "    w = w + ' <end>'\n",
        "    return w"
      ],
      "execution_count": 0,
      "outputs": []
    },
    {
      "cell_type": "code",
      "metadata": {
        "id": "0tmJESseA1kA",
        "colab_type": "code",
        "colab": {}
      },
      "source": [
        "def create_dataset(num_samples):\n",
        "    en = to_sentences(load_doc('./europarl-v7.fr-en.en'))\n",
        "    fr = to_sentences(load_doc('./europarl-v7.fr-en.fr'))\n",
        "\n",
        "    e_sents_op = [add_end_token(preprocess_sentence(w)) for w in en]\n",
        "    e_sents_ip = [add_start_token(w) for w in e_sents_op]\n",
        "    f_sents = [add_start_token(add_end_token(preprocess_sentence(w))) for w in fr]\n",
        "\n",
        "\n",
        "    return e_sents_ip[:num_samples], e_sents_op[:num_samples], f_sents[:num_samples]"
      ],
      "execution_count": 0,
      "outputs": []
    },
    {
      "cell_type": "code",
      "metadata": {
        "id": "eyQuW0vOD9VN",
        "colab_type": "code",
        "colab": {}
      },
      "source": [
        "def tokenize(lang):\n",
        "    lang_tokenizer = tf.keras.preprocessing.text.Tokenizer(filters='', oov_token=\"<unk>\")\n",
        "    lang_tokenizer.fit_on_texts(lang)\n",
        "    tensor = lang_tokenizer.texts_to_sequences(lang)\n",
        "    tensor = tf.keras.preprocessing.sequence.pad_sequences(tensor, padding='post')\n",
        "    return tensor, lang_tokenizer"
      ],
      "execution_count": 0,
      "outputs": []
    },
    {
      "cell_type": "code",
      "metadata": {
        "id": "tPoRlDJcHIAo",
        "colab_type": "code",
        "colab": {}
      },
      "source": [
        "def load_dataset(num_samples):\n",
        "\n",
        "    en_ip, en_op, fr = create_dataset(num_samples)\n",
        "\n",
        "    en_tensor_ip, en_tokenizer = tokenize(en_ip)\n",
        "\n",
        "    en_tensor_op = en_tokenizer.texts_to_sequences(en_op)\n",
        "    en_tensor_op = tf.keras.preprocessing.sequence.pad_sequences(en_tensor_op, padding='post')\n",
        "\n",
        "    fr_tensor, fr_tokenizer = tokenize(fr)\n",
        "\n",
        "    return fr_tensor, en_tensor_ip, en_tensor_op, fr_tokenizer, en_tokenizer"
      ],
      "execution_count": 0,
      "outputs": []
    },
    {
      "cell_type": "code",
      "metadata": {
        "id": "zwtfzlodH2Op",
        "colab_type": "code",
        "colab": {}
      },
      "source": [
        "enc_input, dec_input, dec_target, inp_lang, targ_lang = load_dataset(1000)"
      ],
      "execution_count": 0,
      "outputs": []
    },
    {
      "cell_type": "code",
      "metadata": {
        "id": "TjDha5e5Mali",
        "colab_type": "code",
        "colab": {
          "base_uri": "https://localhost:8080/",
          "height": 34
        },
        "outputId": "35e88a3f-261c-4233-f0b0-38ba380aa16e"
      },
      "source": [
        "enc_inp_train, enc_inp_test, dec_inp_train, _, dec_op_train, dec_op_test = train_test_split(enc_input, dec_input, dec_target, test_size=0.2)\n",
        "print(len(enc_inp_train), len(enc_inp_test), len(dec_inp_train), len(dec_op_train), len(dec_op_test))"
      ],
      "execution_count": 15,
      "outputs": [
        {
          "output_type": "stream",
          "text": [
            "800 200 800 800 200\n"
          ],
          "name": "stdout"
        }
      ]
    },
    {
      "cell_type": "code",
      "metadata": {
        "id": "zrGmrwUGUMGP",
        "colab_type": "code",
        "colab": {}
      },
      "source": [
        "BUFFER_SIZE = len(enc_inp_train)\n",
        "BATCH_SIZE = 128\n",
        "steps_per_epoch = len(enc_inp_train)//BATCH_SIZE\n",
        "embedding_dim = 1000\n",
        "units = 1000\n",
        "vocab_inp_size = len(inp_lang.word_index)+1\n",
        "vocab_tar_size = len(targ_lang.word_index)+1\n",
        "\n",
        "dataset = tf.data.Dataset.from_tensor_slices((enc_inp_train, dec_inp_train, dec_op_train)).shuffle(BUFFER_SIZE)\n",
        "dataset = dataset.batch(BATCH_SIZE, drop_remainder=True)"
      ],
      "execution_count": 0,
      "outputs": []
    },
    {
      "cell_type": "code",
      "metadata": {
        "id": "8oWBvNfVOt9a",
        "colab_type": "code",
        "colab": {}
      },
      "source": [
        "def max_length(tensor):\n",
        "  return max(len(t) for t in tensor)"
      ],
      "execution_count": 0,
      "outputs": []
    },
    {
      "cell_type": "code",
      "metadata": {
        "id": "gfBUWZxbOvGR",
        "colab_type": "code",
        "colab": {
          "base_uri": "https://localhost:8080/",
          "height": 34
        },
        "outputId": "ac4493f6-fe99-4f48-a461-0ee7e5a46ee2"
      },
      "source": [
        "inp_max_len, tar_max_len = max_length(enc_inp_train), max_length(dec_inp_train)\n",
        "print(inp_max_len, tar_max_len)"
      ],
      "execution_count": 19,
      "outputs": [
        {
          "output_type": "stream",
          "text": [
            "167 132\n"
          ],
          "name": "stdout"
        }
      ]
    },
    {
      "cell_type": "markdown",
      "metadata": {
        "id": "A-S0nVxEcnNS",
        "colab_type": "text"
      },
      "source": [
        "# Model"
      ]
    },
    {
      "cell_type": "code",
      "metadata": {
        "id": "m_qJuVEcU67K",
        "colab_type": "code",
        "colab": {}
      },
      "source": [
        "# encoder\n",
        "\n",
        "enc_inp = tf.keras.Input((inp_max_len, vocab_inp_size))\n",
        "#inp_emb = tf.keras.layers.Embedding(vocab_inp_size, embedding_dim, mask_zero=True)(enc_inp)\n",
        "\n",
        "enc_lstm_1 = tf.keras.layers.LSTM(units, return_sequences=True)(enc_inp)#_emb)\n",
        "enc_lstm_2 = tf.keras.layers.LSTM(units, return_sequences=True)(enc_lstm_1)\n",
        "enc_lstm_3 = tf.keras.layers.LSTM(units, return_sequences=True)(enc_lstm_2)\n",
        "\n",
        "enc_op, state_h, state_c = tf.keras.layers.LSTM(units, return_state=True)(enc_lstm_3)\n",
        "encoder_states = [state_h, state_c]"
      ],
      "execution_count": 0,
      "outputs": []
    },
    {
      "cell_type": "code",
      "metadata": {
        "id": "lLdS0dUcR62Y",
        "colab_type": "code",
        "colab": {}
      },
      "source": [
        "# decoder\n",
        "\n",
        "dec_lstm = tf.keras.layers.LSTM(units, activation='softmax', return_sequences=True, return_state=True)\n",
        "dec_dense = tf.keras.layers.TimeDistributed(tf.keras.layers.Dense(vocab_tar_size, activation='softmax'))\n",
        "\n",
        "dec_inp = tf.keras.Input((tar_max_len, vocab_tar_size))\n",
        "#tar_emb = tf.keras.layers.Embedding(vocab_tar_size, embedding_dim, mask_zero=True)(dec_inp)\n",
        "dec_op, _, _ = dec_lstm(dec_inp, initial_state=encoder_states)\n",
        "outputs = dec_dense(dec_op)"
      ],
      "execution_count": 0,
      "outputs": []
    },
    {
      "cell_type": "code",
      "metadata": {
        "id": "Wi-WK_86injq",
        "colab_type": "code",
        "colab": {
          "base_uri": "https://localhost:8080/",
          "height": 1000
        },
        "outputId": "4841cf46-f32f-4336-9d5d-f8daa686ecf0"
      },
      "source": [
        "seq2seq = tf.keras.Model([enc_inp, dec_inp], outputs)\n",
        "seq2seq.summary()\n",
        "tf.keras.utils.plot_model(seq2seq, to_file='seq2seq_plot.png', show_shapes=True, show_layer_names=True)"
      ],
      "execution_count": 22,
      "outputs": [
        {
          "output_type": "stream",
          "text": [
            "Model: \"model\"\n",
            "__________________________________________________________________________________________________\n",
            "Layer (type)                    Output Shape         Param #     Connected to                     \n",
            "==================================================================================================\n",
            "input_1 (InputLayer)            [(None, 167, 3897)]  0                                            \n",
            "__________________________________________________________________________________________________\n",
            "lstm (LSTM)                     (None, 167, 1000)    19592000    input_1[0][0]                    \n",
            "__________________________________________________________________________________________________\n",
            "lstm_1 (LSTM)                   (None, 167, 1000)    8004000     lstm[0][0]                       \n",
            "__________________________________________________________________________________________________\n",
            "lstm_2 (LSTM)                   (None, 167, 1000)    8004000     lstm_1[0][0]                     \n",
            "__________________________________________________________________________________________________\n",
            "input_2 (InputLayer)            [(None, 132, 3477)]  0                                            \n",
            "__________________________________________________________________________________________________\n",
            "lstm_3 (LSTM)                   [(None, 1000), (None 8004000     lstm_2[0][0]                     \n",
            "__________________________________________________________________________________________________\n",
            "lstm_4 (LSTM)                   [(None, 132, 1000),  17912000    input_2[0][0]                    \n",
            "                                                                 lstm_3[0][1]                     \n",
            "                                                                 lstm_3[0][2]                     \n",
            "__________________________________________________________________________________________________\n",
            "time_distributed (TimeDistribut (None, 132, 3477)    3480477     lstm_4[0][0]                     \n",
            "==================================================================================================\n",
            "Total params: 64,996,477\n",
            "Trainable params: 64,996,477\n",
            "Non-trainable params: 0\n",
            "__________________________________________________________________________________________________\n"
          ],
          "name": "stdout"
        },
        {
          "output_type": "execute_result",
          "data": {
            "image/png": "[encoded data removed]",
            "text/plain": [
              "<IPython.core.display.Image object>"
            ]
          },
          "metadata": {
            "tags": []
          },
          "execution_count": 22
        }
      ]
    },
    {
      "cell_type": "markdown",
      "metadata": {
        "id": "HefUMf4qk_ko",
        "colab_type": "text"
      },
      "source": [
        "# Train"
      ]
    },
    {
      "cell_type": "code",
      "metadata": {
        "id": "2Pt-7XKCi77Q",
        "colab_type": "code",
        "colab": {}
      },
      "source": [
        "opt = tf.keras.optimizers.Adam()\n",
        "#loss = tf.keras.losses.SparseCategoricalCrossentropy(from_ reduction='none')\n",
        "\n",
        "seq2seq.compile(optimizer=opt, loss='categorical_crossentropy')"
      ],
      "execution_count": 0,
      "outputs": []
    },
    {
      "cell_type": "code",
      "metadata": {
        "id": "V3fEykz1qdei",
        "colab_type": "code",
        "colab": {}
      },
      "source": [
        "EPOCHS = 1"
      ],
      "execution_count": 0,
      "outputs": []
    },
    {
      "cell_type": "code",
      "metadata": {
        "id": "cUwZdubXPkk9",
        "colab_type": "code",
        "colab": {
          "base_uri": "https://localhost:8080/",
          "height": 543
        },
        "outputId": "b1e1df97-c8fd-4e50-b2a3-9453516ac7d8"
      },
      "source": [
        "for epoch in range(EPOCHS):\n",
        "    print('Epoch : %d / %d '% ((epoch+1), EPOCHS))\n",
        "    for batch, (enc_ip, dec_ip, dec_op) in enumerate(dataset.take(steps_per_epoch)):\n",
        "        print('Step : %d / %d' % ((batch+1), steps_per_epoch))\n",
        "        enc_ip = tf.one_hot(enc_ip, depth = vocab_inp_size)\n",
        "        dec_ip = tf.one_hot(dec_ip, depth = vocab_tar_size)\n",
        "        dec_op = tf.one_hot(dec_op, depth=vocab_tar_size)\n",
        "        print(enc_ip.shape)\n",
        "        print(dec_ip.shape)\n",
        "        print(dec_op.shape)\n",
        "        op = seq2seq.predict([enc_ip, dec_ip])\n",
        "        print(op.shape)\n",
        "        seq2seq.train_on_batch([enc_ip, dec_ip], dec_op)"
      ],
      "execution_count": 32,
      "outputs": [
        {
          "output_type": "stream",
          "text": [
            "Epoch : 1 / 1 \n",
            "Step : 1 / 6\n",
            "(128, 167, 3897)\n",
            "(128, 132, 3477)\n",
            "(128, 132, 3477)\n",
            "(128, 132, 3477)\n",
            "Step : 2 / 6\n",
            "(128, 167, 3897)\n",
            "(128, 132, 3477)\n",
            "(128, 132, 3477)\n",
            "(128, 132, 3477)\n",
            "Step : 3 / 6\n",
            "(128, 167, 3897)\n",
            "(128, 132, 3477)\n",
            "(128, 132, 3477)\n",
            "(128, 132, 3477)\n",
            "Step : 4 / 6\n",
            "(128, 167, 3897)\n",
            "(128, 132, 3477)\n",
            "(128, 132, 3477)\n",
            "(128, 132, 3477)\n",
            "Step : 5 / 6\n",
            "(128, 167, 3897)\n",
            "(128, 132, 3477)\n",
            "(128, 132, 3477)\n",
            "(128, 132, 3477)\n",
            "Step : 6 / 6\n",
            "(128, 167, 3897)\n",
            "(128, 132, 3477)\n",
            "(128, 132, 3477)\n",
            "(128, 132, 3477)\n"
          ],
          "name": "stdout"
        }
      ]
    },
    {
      "cell_type": "markdown",
      "metadata": {
        "id": "eXdrWrpl0c7m",
        "colab_type": "text"
      },
      "source": [
        "# Inference"
      ]
    },
    {
      "cell_type": "code",
      "metadata": {
        "id": "mqKAc3-SmGT2",
        "colab_type": "code",
        "colab": {}
      },
      "source": [
        "encoder_model = tf.keras.Model(enc_inp, encoder_states)\n",
        "\n",
        "state_inp_h = tf.keras.Input((units))\n",
        "state_inp_c = tf.keras.Input((units))\n",
        "dec_state_inps = [state_inp_h, state_inp_c]\n",
        "decoder_op, state_h, state_c = dec_lstm(dec_inp, initial_state = dec_state_inps) \n",
        "decoder_op = dec_dense(decoder_op)\n",
        "decoder_states = [state_h, state_c]\n",
        "\n",
        "decoder_model = Model([dec_inp]+dec_state_inps, [decoder_op]+decoder_states)"
      ],
      "execution_count": 0,
      "outputs": []
    },
    {
      "cell_type": "code",
      "metadata": {
        "id": "MsCvrYsEGXjE",
        "colab_type": "code",
        "colab": {}
      },
      "source": [
        "def inference_preprocess(input_seq):\n",
        "    input_seq = add_end_token(add_start_token(preprocess_sentence))\n",
        "    input_seq = inp_lang.texts_to_sequences(input_seq)\n",
        "    input_seq = tf.keras.preprocessing.sequence.pad_sequences(input_seq, inp_max_len, padding='post')\n",
        "    input_seq = tf.one_hot(input_seq, depth=vocab_inp_size)\n",
        "\n",
        "    return input seq"
      ],
      "execution_count": 0,
      "outputs": []
    },
    {
      "cell_type": "code",
      "metadata": {
        "id": "ny7vaqt7b-BW",
        "colab_type": "code",
        "colab": {}
      },
      "source": [
        "def decode_sequence(input_seq):\n",
        "\n",
        "    input_seq = inference_preprocess(input_seq)\n",
        "    states = encoder_model.predict(input_seq)\n",
        "    \n",
        "    target_seq = tf.ones((1,1,vocab_tar_size))\n",
        "    target_seq[0, 0, targ_lang.word_index['<start>']] = 1\n",
        "\n",
        "    stop = False\n",
        "    decoded_sent = \" \"\n",
        "    while not stop:\n",
        "        output_tokens = decoder_model([target_seq]+states)\n",
        "\n"
      ],
      "execution_count": 0,
      "outputs": []
    }
  ]
}